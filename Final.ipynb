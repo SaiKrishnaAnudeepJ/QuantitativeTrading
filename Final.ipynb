{
 "cells": [
  {
   "cell_type": "code",
   "execution_count": 1,
   "metadata": {
    "collapsed": true
   },
   "outputs": [],
   "source": [
    "# Importing necessary Libraries"
   ]
  },
  {
   "cell_type": "code",
   "execution_count": 2,
   "metadata": {},
   "outputs": [
    {
     "name": "stdout",
     "output_type": "stream",
     "text": [
      "Populating the interactive namespace from numpy and matplotlib\n"
     ]
    },
    {
     "name": "stderr",
     "output_type": "stream",
     "text": [
      "C:\\Users\\Krishna\\Anaconda2\\lib\\site-packages\\sklearn\\cross_validation.py:41: DeprecationWarning: This module was deprecated in version 0.18 in favor of the model_selection module into which all the refactored classes and functions are moved. Also note that the interface of the new CV iterators are different from that of this module. This module will be removed in 0.20.\n",
      "  \"This module will be removed in 0.20.\", DeprecationWarning)\n",
      "C:\\Users\\Krishna\\Anaconda2\\lib\\site-packages\\sklearn\\grid_search.py:42: DeprecationWarning: This module was deprecated in version 0.18 in favor of the model_selection module into which all the refactored classes and functions are moved. This module will be removed in 0.20.\n",
      "  DeprecationWarning)\n",
      "C:\\Users\\Krishna\\Anaconda2\\lib\\site-packages\\sklearn\\learning_curve.py:22: DeprecationWarning: This module was deprecated in version 0.18 in favor of the model_selection module into which all the functions are moved. This module will be removed in 0.20\n",
      "  DeprecationWarning)\n"
     ]
    }
   ],
   "source": [
    "#Importing necessary Libraries;\n",
    "%matplotlib inline\n",
    "%pylab inline\n",
    "pylab.rcParams['figure.figsize'] = (14,6)\n",
    "from matplotlib.colors import ListedColormap\n",
    "from sklearn import neighbors\n",
    "import matplotlib.pyplot as plt\n",
    "import seaborn as sns\n",
    "import pandas as pd\n",
    "import sklearn as sk\n",
    "import numpy as np\n",
    "from sklearn import linear_model\n",
    "from sklearn.metrics import (brier_score_loss, precision_score, recall_score,\n",
    "                             f1_score)\n",
    "from sklearn.cross_validation import cross_val_score\n",
    "from sklearn.metrics import confusion_matrix\n",
    "import sklearn.metrics as  metrics\n",
    "from IPython.display import display\n",
    "from sklearn.cross_validation import train_test_split\n",
    "#from sklearn.cross_validation import  cross_val_score\n",
    "from sklearn.model_selection import  cross_val_score\n",
    "from sklearn.grid_search import GridSearchCV\n",
    "from sklearn import tree\n",
    "from sklearn import naive_bayes\n",
    "from sklearn.learning_curve import learning_curve\n",
    "from sklearn import cross_validation\n",
    "from sklearn.metrics import  make_scorer\n",
    "from sklearn.svm import SVC\n",
    "from sklearn.neural_network import MLPClassifier\n",
    "sns.set(style=\"darkgrid\")\n",
    "import os\n",
    "from sklearn import cross_validation"
   ]
  },
  {
   "cell_type": "code",
   "execution_count": 3,
   "metadata": {
    "collapsed": true
   },
   "outputs": [],
   "source": [
    "import pandas as pd\n",
    "import datetime\n",
    "import time\n",
    "from datetime import date\n",
    "import numpy as np\n",
    "import math\n",
    "from sklearn.model_selection import train_test_split\n",
    "from sklearn.linear_model import LogisticRegression\n",
    "import matplotlib.pyplot as plt\n",
    "from sklearn import linear_model, decomposition, datasets\n",
    "from sklearn.linear_model import LogisticRegression\n",
    "from sklearn.metrics import precision_recall_fscore_support\n",
    "from sklearn.metrics import accuracy_score, f1_score, precision_score, recall_score, classification_report, confusion_matrix\n",
    "import pandas as pd\n",
    "from docx import Document\n",
    "import nltk\n",
    "import textblob\n",
    "from sklearn.model_selection import KFold, cross_val_score, train_test_split"
   ]
  },
  {
   "cell_type": "code",
   "execution_count": 4,
   "metadata": {
    "collapsed": true
   },
   "outputs": [],
   "source": [
    "from sklearn.ensemble import RandomForestRegressor\n",
    "from sklearn.ensemble import RandomForestClassifier\n",
    "from sklearn.metrics import roc_auc_score\n",
    "from sklearn import svm\n",
    "from sklearn.metrics import (brier_score_loss, precision_score, recall_score,\n",
    "                             f1_score)\n",
    "from sklearn.svm import SVC"
   ]
  },
  {
   "cell_type": "markdown",
   "metadata": {},
   "source": [
    "### Creating Technical Dataset"
   ]
  },
  {
   "cell_type": "code",
   "execution_count": 39,
   "metadata": {
    "collapsed": true
   },
   "outputs": [],
   "source": [
    "spy = pd.read_csv(\"SPY.csv\")"
   ]
  },
  {
   "cell_type": "code",
   "execution_count": 40,
   "metadata": {
    "collapsed": true
   },
   "outputs": [],
   "source": [
    "sp = spy[:309]"
   ]
  },
  {
   "cell_type": "code",
   "execution_count": 41,
   "metadata": {
    "collapsed": true
   },
   "outputs": [],
   "source": [
    "sp = sp[[\"Date\",\"Close\",\"Volume\"]]"
   ]
  },
  {
   "cell_type": "markdown",
   "metadata": {},
   "source": [
    "### Creating additional technical variables"
   ]
  },
  {
   "cell_type": "code",
   "execution_count": 42,
   "metadata": {
    "collapsed": true
   },
   "outputs": [],
   "source": [
    "# Creating Momentum variable as Mmtm\n",
    "sp[\"Mmtm\"] = (sp[\"Close\"]-sp[\"Close\"].shift()) * sp[\"Volume\"]"
   ]
  },
  {
   "cell_type": "code",
   "execution_count": 43,
   "metadata": {},
   "outputs": [
    {
     "name": "stderr",
     "output_type": "stream",
     "text": [
      "C:\\Users\\Krishna\\Anaconda2\\lib\\site-packages\\ipykernel_launcher.py:2: FutureWarning: pd.rolling_mean is deprecated for Series and will be removed in a future version, replace with \n",
      "\tSeries.rolling(window=3,center=False).mean()\n",
      "  \n",
      "C:\\Users\\Krishna\\Anaconda2\\lib\\site-packages\\ipykernel_launcher.py:3: FutureWarning: pd.rolling_mean is deprecated for Series and will be removed in a future version, replace with \n",
      "\tSeries.rolling(window=7,center=False).mean()\n",
      "  This is separate from the ipykernel package so we can avoid doing imports until\n",
      "C:\\Users\\Krishna\\Anaconda2\\lib\\site-packages\\ipykernel_launcher.py:4: FutureWarning: pd.rolling_mean is deprecated for Series and will be removed in a future version, replace with \n",
      "\tSeries.rolling(window=12,center=False).mean()\n",
      "  after removing the cwd from sys.path.\n"
     ]
    }
   ],
   "source": [
    "sp[\"Log_change\"] = np.log(sp.Close) - np.log(sp.Close.shift(1))\n",
    "sp[\"3sma\"] = pd.rolling_mean(sp[\"Close\"],3)\n",
    "sp[\"7sma\"] = pd.rolling_mean(sp[\"Close\"],7)\n",
    "sp[\"12sma\"] = pd.rolling_mean(sp[\"Close\"],12)"
   ]
  },
  {
   "cell_type": "code",
   "execution_count": 44,
   "metadata": {
    "collapsed": true
   },
   "outputs": [],
   "source": [
    "# Creating SP500/90 day MVA variable\n",
    "sp[\"SP500/90MVA\"] = sp[\"Close\"]/sp[\"3sma\"]"
   ]
  },
  {
   "cell_type": "code",
   "execution_count": 45,
   "metadata": {
    "collapsed": true
   },
   "outputs": [],
   "source": [
    "sp1 = sp.drop(\"Volume\",1)"
   ]
  },
  {
   "cell_type": "code",
   "execution_count": 46,
   "metadata": {
    "collapsed": true
   },
   "outputs": [],
   "source": [
    "sp1 = sp1.fillna(0)"
   ]
  },
  {
   "cell_type": "code",
   "execution_count": 47,
   "metadata": {},
   "outputs": [
    {
     "data": {
      "text/html": [
       "<div>\n",
       "<style>\n",
       "    .dataframe thead tr:only-child th {\n",
       "        text-align: right;\n",
       "    }\n",
       "\n",
       "    .dataframe thead th {\n",
       "        text-align: left;\n",
       "    }\n",
       "\n",
       "    .dataframe tbody tr th {\n",
       "        vertical-align: top;\n",
       "    }\n",
       "</style>\n",
       "<table border=\"1\" class=\"dataframe\">\n",
       "  <thead>\n",
       "    <tr style=\"text-align: right;\">\n",
       "      <th></th>\n",
       "      <th>Date</th>\n",
       "      <th>Close</th>\n",
       "      <th>Mmtm</th>\n",
       "      <th>Log_change</th>\n",
       "      <th>3sma</th>\n",
       "      <th>7sma</th>\n",
       "      <th>12sma</th>\n",
       "      <th>SP500/90MVA</th>\n",
       "    </tr>\n",
       "  </thead>\n",
       "  <tbody>\n",
       "    <tr>\n",
       "      <th>0</th>\n",
       "      <td>1990-01-01</td>\n",
       "      <td>329.079987</td>\n",
       "      <td>0.000000e+00</td>\n",
       "      <td>0.000000</td>\n",
       "      <td>0.000000</td>\n",
       "      <td>0.0</td>\n",
       "      <td>0.0</td>\n",
       "      <td>0.000000</td>\n",
       "    </tr>\n",
       "    <tr>\n",
       "      <th>1</th>\n",
       "      <td>1990-02-01</td>\n",
       "      <td>331.890015</td>\n",
       "      <td>8.323219e+09</td>\n",
       "      <td>0.008503</td>\n",
       "      <td>0.000000</td>\n",
       "      <td>0.0</td>\n",
       "      <td>0.0</td>\n",
       "      <td>0.000000</td>\n",
       "    </tr>\n",
       "    <tr>\n",
       "      <th>2</th>\n",
       "      <td>1990-03-01</td>\n",
       "      <td>339.940002</td>\n",
       "      <td>2.643036e+10</td>\n",
       "      <td>0.023966</td>\n",
       "      <td>333.636668</td>\n",
       "      <td>0.0</td>\n",
       "      <td>0.0</td>\n",
       "      <td>1.018893</td>\n",
       "    </tr>\n",
       "    <tr>\n",
       "      <th>3</th>\n",
       "      <td>1990-04-01</td>\n",
       "      <td>330.799988</td>\n",
       "      <td>-2.560319e+10</td>\n",
       "      <td>-0.027255</td>\n",
       "      <td>334.210002</td>\n",
       "      <td>0.0</td>\n",
       "      <td>0.0</td>\n",
       "      <td>0.989797</td>\n",
       "    </tr>\n",
       "    <tr>\n",
       "      <th>4</th>\n",
       "      <td>1990-05-01</td>\n",
       "      <td>361.230011</td>\n",
       "      <td>1.094471e+11</td>\n",
       "      <td>0.088001</td>\n",
       "      <td>343.990000</td>\n",
       "      <td>0.0</td>\n",
       "      <td>0.0</td>\n",
       "      <td>1.050118</td>\n",
       "    </tr>\n",
       "  </tbody>\n",
       "</table>\n",
       "</div>"
      ],
      "text/plain": [
       "         Date       Close          Mmtm  Log_change        3sma  7sma  12sma  \\\n",
       "0  1990-01-01  329.079987  0.000000e+00    0.000000    0.000000   0.0    0.0   \n",
       "1  1990-02-01  331.890015  8.323219e+09    0.008503    0.000000   0.0    0.0   \n",
       "2  1990-03-01  339.940002  2.643036e+10    0.023966  333.636668   0.0    0.0   \n",
       "3  1990-04-01  330.799988 -2.560319e+10   -0.027255  334.210002   0.0    0.0   \n",
       "4  1990-05-01  361.230011  1.094471e+11    0.088001  343.990000   0.0    0.0   \n",
       "\n",
       "   SP500/90MVA  \n",
       "0     0.000000  \n",
       "1     0.000000  \n",
       "2     1.018893  \n",
       "3     0.989797  \n",
       "4     1.050118  "
      ]
     },
     "execution_count": 47,
     "metadata": {},
     "output_type": "execute_result"
    }
   ],
   "source": [
    "sp1.head()"
   ]
  },
  {
   "cell_type": "markdown",
   "metadata": {},
   "source": [
    "### Preparing fundamental Dataset"
   ]
  },
  {
   "cell_type": "code",
   "execution_count": 48,
   "metadata": {
    "collapsed": true
   },
   "outputs": [],
   "source": [
    "fund = pd.read_csv(\"f1.csv\")\n",
    "tentsy = pd.read_csv(\"10 tsy.csv\")\n",
    "fivetsy = pd.read_csv(\"5 tsy.csv\")\n",
    "twotsy = pd.read_csv(\"2 tsy.csv\")"
   ]
  },
  {
   "cell_type": "code",
   "execution_count": 49,
   "metadata": {
    "collapsed": true
   },
   "outputs": [],
   "source": [
    "#dvrate = Annualized dividend rate\n",
    "#EPS = Earnings per Share\n",
    "#Prcrcm =  Closing Price\n",
    "#10 Tsy = 10 year treasury rate\n",
    "#5 Tsy = 5 year treasury rate\n",
    "#2 Tsy = 2 year treasury rate"
   ]
  },
  {
   "cell_type": "code",
   "execution_count": 50,
   "metadata": {
    "collapsed": true
   },
   "outputs": [],
   "source": [
    "fund = fund[[\"dvrate\",\"epsx12\",\"prccm\",\"datadate\"]]\n",
    "fund[\"PE\"] = fund[\"prccm\"]/fund[\"epsx12\"]\n",
    "fund = fund[[\"dvrate\",\"datadate\",\"PE\"]]\n",
    "fund[\"Date\"] = fund['datadate'].apply(lambda x: pd.to_datetime(str(x), format='%Y%m%d'))\n",
    "fund = fund[[\"dvrate\",\"PE\"]]"
   ]
  },
  {
   "cell_type": "code",
   "execution_count": 51,
   "metadata": {
    "collapsed": true
   },
   "outputs": [],
   "source": [
    "TT = tentsy.reindex(index=tentsy.index[::-1])\n",
    "FT = fivetsy.reindex(index=fivetsy.index[::-1])\n",
    "TwT = twotsy.reindex(index=twotsy.index[::-1])"
   ]
  },
  {
   "cell_type": "code",
   "execution_count": 52,
   "metadata": {},
   "outputs": [],
   "source": [
    "fnd = fund.copy()\n",
    "fnd[\"10 tsy\"] = TT[\"Price\"]\n",
    "fnd[\"5 tsy\"] = FT[\"Price\"]\n",
    "fnd[\"2 tsy\"] = TwT[\"Price\"]"
   ]
  },
  {
   "cell_type": "markdown",
   "metadata": {},
   "source": [
    "### Creating Sentimental Dataset"
   ]
  },
  {
   "cell_type": "code",
   "execution_count": 55,
   "metadata": {
    "collapsed": true
   },
   "outputs": [],
   "source": [
    "year = range(1990,2016)"
   ]
  },
  {
   "cell_type": "code",
   "execution_count": 56,
   "metadata": {
    "collapsed": true
   },
   "outputs": [],
   "source": [
    "yr = dict.fromkeys(year)"
   ]
  },
  {
   "cell_type": "code",
   "execution_count": 57,
   "metadata": {
    "collapsed": true
   },
   "outputs": [],
   "source": [
    "for key in yr.keys():\n",
    "    f = Document(str(key)+\".docx\")\n",
    "    yr[key] = []\n",
    "    p = []\n",
    "    s = []\n",
    "    for para in f.paragraphs:\n",
    "        an= textblob.TextBlob(para.text)\n",
    "        sn = an.sentiment\n",
    "        p.append(sn.polarity)\n",
    "        s.append(sn.subjectivity)\n",
    "    yr[key]= [sum(p)/len(p), sum(s)/len(s)]"
   ]
  },
  {
   "cell_type": "code",
   "execution_count": 58,
   "metadata": {
    "collapsed": true
   },
   "outputs": [],
   "source": [
    "sent = pd.DataFrame(yr.values())\n",
    "sent.columns = [\"Pol\", \"Sub\"]"
   ]
  },
  {
   "cell_type": "code",
   "execution_count": 60,
   "metadata": {},
   "outputs": [],
   "source": [
    "pol = sent[\"Pol\"]\n",
    "pol1 = np.repeat(pol,12)\n",
    "sub = sent[\"Sub\"]\n",
    "sub1 = np.repeat(sub,12)\n",
    "snt = pd.DataFrame()\n",
    "snt[\"Pol\"] = pol1\n",
    "snt[\"Sub\"] = sub1\n",
    "snt =  snt[:309]"
   ]
  },
  {
   "cell_type": "markdown",
   "metadata": {},
   "source": [
    "### Creating Final Dataset"
   ]
  },
  {
   "cell_type": "code",
   "execution_count": 61,
   "metadata": {
    "collapsed": true
   },
   "outputs": [],
   "source": [
    "df = sp1.copy()\n",
    "f2 = fnd.copy()\n",
    "s2 = snt.copy()"
   ]
  },
  {
   "cell_type": "code",
   "execution_count": 62,
   "metadata": {
    "collapsed": true
   },
   "outputs": [],
   "source": [
    "df = df.join(f2)\n",
    "df = df.join(s2) #DF is the final dataset"
   ]
  },
  {
   "cell_type": "code",
   "execution_count": 63,
   "metadata": {
    "collapsed": true
   },
   "outputs": [],
   "source": [
    "df[\"Pred\"] = np.where(df[\"Close\"]>df[\"Close\"].shift(),1,0)"
   ]
  },
  {
   "cell_type": "code",
   "execution_count": 64,
   "metadata": {},
   "outputs": [
    {
     "data": {
      "text/html": [
       "<div>\n",
       "<style>\n",
       "    .dataframe thead tr:only-child th {\n",
       "        text-align: right;\n",
       "    }\n",
       "\n",
       "    .dataframe thead th {\n",
       "        text-align: left;\n",
       "    }\n",
       "\n",
       "    .dataframe tbody tr th {\n",
       "        vertical-align: top;\n",
       "    }\n",
       "</style>\n",
       "<table border=\"1\" class=\"dataframe\">\n",
       "  <thead>\n",
       "    <tr style=\"text-align: right;\">\n",
       "      <th></th>\n",
       "      <th>Date</th>\n",
       "      <th>Close</th>\n",
       "      <th>Mmtm</th>\n",
       "      <th>Log_change</th>\n",
       "      <th>3sma</th>\n",
       "      <th>7sma</th>\n",
       "      <th>12sma</th>\n",
       "      <th>SP500/90MVA</th>\n",
       "      <th>dvrate</th>\n",
       "      <th>PE</th>\n",
       "      <th>10 tsy</th>\n",
       "      <th>5 tsy</th>\n",
       "      <th>2 tsy</th>\n",
       "      <th>Pol</th>\n",
       "      <th>Sub</th>\n",
       "      <th>Pred</th>\n",
       "    </tr>\n",
       "  </thead>\n",
       "  <tbody>\n",
       "    <tr>\n",
       "      <th>0</th>\n",
       "      <td>1990-01-01</td>\n",
       "      <td>329.079987</td>\n",
       "      <td>0.0</td>\n",
       "      <td>0.0</td>\n",
       "      <td>0.0</td>\n",
       "      <td>0.0</td>\n",
       "      <td>0.0</td>\n",
       "      <td>0.0</td>\n",
       "      <td>11.4</td>\n",
       "      <td>14.389777</td>\n",
       "      <td>2.269</td>\n",
       "      <td>1.766</td>\n",
       "      <td>1.064</td>\n",
       "      <td>0.03096</td>\n",
       "      <td>0.281961</td>\n",
       "      <td>0</td>\n",
       "    </tr>\n",
       "    <tr>\n",
       "      <th>0</th>\n",
       "      <td>1990-01-01</td>\n",
       "      <td>329.079987</td>\n",
       "      <td>0.0</td>\n",
       "      <td>0.0</td>\n",
       "      <td>0.0</td>\n",
       "      <td>0.0</td>\n",
       "      <td>0.0</td>\n",
       "      <td>0.0</td>\n",
       "      <td>11.4</td>\n",
       "      <td>14.389777</td>\n",
       "      <td>2.269</td>\n",
       "      <td>1.766</td>\n",
       "      <td>1.064</td>\n",
       "      <td>0.03096</td>\n",
       "      <td>0.281961</td>\n",
       "      <td>0</td>\n",
       "    </tr>\n",
       "    <tr>\n",
       "      <th>0</th>\n",
       "      <td>1990-01-01</td>\n",
       "      <td>329.079987</td>\n",
       "      <td>0.0</td>\n",
       "      <td>0.0</td>\n",
       "      <td>0.0</td>\n",
       "      <td>0.0</td>\n",
       "      <td>0.0</td>\n",
       "      <td>0.0</td>\n",
       "      <td>11.4</td>\n",
       "      <td>14.389777</td>\n",
       "      <td>2.269</td>\n",
       "      <td>1.766</td>\n",
       "      <td>1.064</td>\n",
       "      <td>0.03096</td>\n",
       "      <td>0.281961</td>\n",
       "      <td>0</td>\n",
       "    </tr>\n",
       "    <tr>\n",
       "      <th>0</th>\n",
       "      <td>1990-01-01</td>\n",
       "      <td>329.079987</td>\n",
       "      <td>0.0</td>\n",
       "      <td>0.0</td>\n",
       "      <td>0.0</td>\n",
       "      <td>0.0</td>\n",
       "      <td>0.0</td>\n",
       "      <td>0.0</td>\n",
       "      <td>11.4</td>\n",
       "      <td>14.389777</td>\n",
       "      <td>2.269</td>\n",
       "      <td>1.766</td>\n",
       "      <td>1.064</td>\n",
       "      <td>0.03096</td>\n",
       "      <td>0.281961</td>\n",
       "      <td>0</td>\n",
       "    </tr>\n",
       "    <tr>\n",
       "      <th>0</th>\n",
       "      <td>1990-01-01</td>\n",
       "      <td>329.079987</td>\n",
       "      <td>0.0</td>\n",
       "      <td>0.0</td>\n",
       "      <td>0.0</td>\n",
       "      <td>0.0</td>\n",
       "      <td>0.0</td>\n",
       "      <td>0.0</td>\n",
       "      <td>11.4</td>\n",
       "      <td>14.389777</td>\n",
       "      <td>2.269</td>\n",
       "      <td>1.766</td>\n",
       "      <td>1.064</td>\n",
       "      <td>0.03096</td>\n",
       "      <td>0.281961</td>\n",
       "      <td>0</td>\n",
       "    </tr>\n",
       "  </tbody>\n",
       "</table>\n",
       "</div>"
      ],
      "text/plain": [
       "         Date       Close  Mmtm  Log_change  3sma  7sma  12sma  SP500/90MVA  \\\n",
       "0  1990-01-01  329.079987   0.0         0.0   0.0   0.0    0.0          0.0   \n",
       "0  1990-01-01  329.079987   0.0         0.0   0.0   0.0    0.0          0.0   \n",
       "0  1990-01-01  329.079987   0.0         0.0   0.0   0.0    0.0          0.0   \n",
       "0  1990-01-01  329.079987   0.0         0.0   0.0   0.0    0.0          0.0   \n",
       "0  1990-01-01  329.079987   0.0         0.0   0.0   0.0    0.0          0.0   \n",
       "\n",
       "   dvrate         PE 10 tsy  5 tsy  2 tsy      Pol       Sub  Pred  \n",
       "0    11.4  14.389777  2.269  1.766  1.064  0.03096  0.281961     0  \n",
       "0    11.4  14.389777  2.269  1.766  1.064  0.03096  0.281961     0  \n",
       "0    11.4  14.389777  2.269  1.766  1.064  0.03096  0.281961     0  \n",
       "0    11.4  14.389777  2.269  1.766  1.064  0.03096  0.281961     0  \n",
       "0    11.4  14.389777  2.269  1.766  1.064  0.03096  0.281961     0  "
      ]
     },
     "execution_count": 64,
     "metadata": {},
     "output_type": "execute_result"
    }
   ],
   "source": [
    "df.head()"
   ]
  },
  {
   "cell_type": "markdown",
   "metadata": {},
   "source": [
    "### Data Manipulation"
   ]
  },
  {
   "cell_type": "code",
   "execution_count": 65,
   "metadata": {
    "collapsed": true
   },
   "outputs": [],
   "source": [
    "# Our goal is to predict the movement of the S&P 500 using the previous months data\n",
    "# For example, We have to predict the Febraury movement using the January Data\n",
    "# So Our target variable is 1 step ahead of the X-Variables\n",
    "# To Compensate we shift our target variable one step back wards"
   ]
  },
  {
   "cell_type": "code",
   "execution_count": 66,
   "metadata": {
    "collapsed": true
   },
   "outputs": [],
   "source": [
    "df[\"Pred\"] = df[\"Pred\"].shift(-1)\n",
    "df = df.fillna(0)"
   ]
  },
  {
   "cell_type": "markdown",
   "metadata": {},
   "source": [
    "### Creating Final Feature and Prediction variable Datasets"
   ]
  },
  {
   "cell_type": "code",
   "execution_count": 67,
   "metadata": {
    "collapsed": true
   },
   "outputs": [],
   "source": [
    "#Dataset of Dates\n",
    "df_date = df[\"Date\"]"
   ]
  },
  {
   "cell_type": "code",
   "execution_count": 68,
   "metadata": {
    "collapsed": true
   },
   "outputs": [],
   "source": [
    "# Dataset Of X-Variables\n",
    "df_x = df[[\"Mmtm\",\"Log_change\",\"3sma\",\"7sma\",\"12sma\",\"SP500/90MVA\",\"dvrate\",\"PE\",\"10 tsy\",\"5 tsy\",\"2 tsy\",\"Pol\",\"Pred\"]]"
   ]
  },
  {
   "cell_type": "code",
   "execution_count": 69,
   "metadata": {
    "collapsed": true
   },
   "outputs": [],
   "source": [
    "#Dataset Of Y-variables\n",
    "df_y = df[\"Pred\"]"
   ]
  },
  {
   "cell_type": "markdown",
   "metadata": {},
   "source": [
    "### Normalizing Data"
   ]
  },
  {
   "cell_type": "code",
   "execution_count": 70,
   "metadata": {
    "collapsed": true
   },
   "outputs": [],
   "source": [
    "#This data is Panel data.So, the terms like Close and Volume will consistetly increase with time.\n",
    "#So it doesn't make any sense to Normalize the data\n",
    "#So instead we take the Log differntiation for some Momentum variable to solve this.\n",
    "# We are doing this only for momentum variable because they differ from other variables by a very large margin"
   ]
  },
  {
   "cell_type": "code",
   "execution_count": 71,
   "metadata": {},
   "outputs": [
    {
     "name": "stderr",
     "output_type": "stream",
     "text": [
      "C:\\Users\\Krishna\\Anaconda2\\lib\\site-packages\\ipykernel_launcher.py:1: RuntimeWarning: divide by zero encountered in log\n",
      "  \"\"\"Entry point for launching an IPython kernel.\n",
      "C:\\Users\\Krishna\\Anaconda2\\lib\\site-packages\\ipykernel_launcher.py:1: RuntimeWarning: invalid value encountered in log\n",
      "  \"\"\"Entry point for launching an IPython kernel.\n",
      "C:\\Users\\Krishna\\Anaconda2\\lib\\site-packages\\ipykernel_launcher.py:1: SettingWithCopyWarning: \n",
      "A value is trying to be set on a copy of a slice from a DataFrame.\n",
      "Try using .loc[row_indexer,col_indexer] = value instead\n",
      "\n",
      "See the caveats in the documentation: http://pandas.pydata.org/pandas-docs/stable/indexing.html#indexing-view-versus-copy\n",
      "  \"\"\"Entry point for launching an IPython kernel.\n"
     ]
    }
   ],
   "source": [
    "df_x[\"Mmtm\"] = np.log(df_x.Mmtm) - np.log(df_x.Mmtm.shift(1))"
   ]
  },
  {
   "cell_type": "code",
   "execution_count": 72,
   "metadata": {
    "collapsed": true
   },
   "outputs": [],
   "source": [
    "df_x = df_x.replace(np.inf, np.nan)\n",
    "df_x=df_x.fillna(0)"
   ]
  },
  {
   "cell_type": "code",
   "execution_count": 73,
   "metadata": {},
   "outputs": [
    {
     "data": {
      "text/html": [
       "<div>\n",
       "<style>\n",
       "    .dataframe thead tr:only-child th {\n",
       "        text-align: right;\n",
       "    }\n",
       "\n",
       "    .dataframe thead th {\n",
       "        text-align: left;\n",
       "    }\n",
       "\n",
       "    .dataframe tbody tr th {\n",
       "        vertical-align: top;\n",
       "    }\n",
       "</style>\n",
       "<table border=\"1\" class=\"dataframe\">\n",
       "  <thead>\n",
       "    <tr style=\"text-align: right;\">\n",
       "      <th></th>\n",
       "      <th>Mmtm</th>\n",
       "      <th>Log_change</th>\n",
       "      <th>3sma</th>\n",
       "      <th>7sma</th>\n",
       "      <th>12sma</th>\n",
       "      <th>SP500/90MVA</th>\n",
       "      <th>dvrate</th>\n",
       "      <th>PE</th>\n",
       "      <th>Pol</th>\n",
       "      <th>Pred</th>\n",
       "    </tr>\n",
       "  </thead>\n",
       "  <tbody>\n",
       "    <tr>\n",
       "      <th>count</th>\n",
       "      <td>592.000000</td>\n",
       "      <td>592.000000</td>\n",
       "      <td>592.000000</td>\n",
       "      <td>592.000000</td>\n",
       "      <td>592.000000</td>\n",
       "      <td>592.000000</td>\n",
       "      <td>592.000000</td>\n",
       "      <td>592.000000</td>\n",
       "      <td>592.000000</td>\n",
       "      <td>592.000000</td>\n",
       "    </tr>\n",
       "    <tr>\n",
       "      <th>mean</th>\n",
       "      <td>-0.006066</td>\n",
       "      <td>0.007138</td>\n",
       "      <td>709.308274</td>\n",
       "      <td>673.792203</td>\n",
       "      <td>629.875814</td>\n",
       "      <td>0.966599</td>\n",
       "      <td>16.550122</td>\n",
       "      <td>21.375812</td>\n",
       "      <td>0.019503</td>\n",
       "      <td>0.326014</td>\n",
       "    </tr>\n",
       "    <tr>\n",
       "      <th>std</th>\n",
       "      <td>0.706694</td>\n",
       "      <td>0.043255</td>\n",
       "      <td>493.504501</td>\n",
       "      <td>516.667293</td>\n",
       "      <td>540.415523</td>\n",
       "      <td>0.201400</td>\n",
       "      <td>7.322034</td>\n",
       "      <td>12.002254</td>\n",
       "      <td>0.033680</td>\n",
       "      <td>0.469149</td>\n",
       "    </tr>\n",
       "    <tr>\n",
       "      <th>min</th>\n",
       "      <td>-5.706200</td>\n",
       "      <td>-0.185636</td>\n",
       "      <td>0.000000</td>\n",
       "      <td>0.000000</td>\n",
       "      <td>0.000000</td>\n",
       "      <td>0.000000</td>\n",
       "      <td>11.040000</td>\n",
       "      <td>0.000000</td>\n",
       "      <td>0.000000</td>\n",
       "      <td>0.000000</td>\n",
       "    </tr>\n",
       "    <tr>\n",
       "      <th>25%</th>\n",
       "      <td>0.000000</td>\n",
       "      <td>-0.019329</td>\n",
       "      <td>350.016663</td>\n",
       "      <td>339.249996</td>\n",
       "      <td>333.917498</td>\n",
       "      <td>0.987878</td>\n",
       "      <td>12.120000</td>\n",
       "      <td>16.136394</td>\n",
       "      <td>0.000000</td>\n",
       "      <td>0.000000</td>\n",
       "    </tr>\n",
       "    <tr>\n",
       "      <th>50%</th>\n",
       "      <td>0.000000</td>\n",
       "      <td>0.009544</td>\n",
       "      <td>400.363332</td>\n",
       "      <td>394.948569</td>\n",
       "      <td>386.938332</td>\n",
       "      <td>1.009751</td>\n",
       "      <td>12.840000</td>\n",
       "      <td>18.616514</td>\n",
       "      <td>0.000000</td>\n",
       "      <td>0.000000</td>\n",
       "    </tr>\n",
       "    <tr>\n",
       "      <th>75%</th>\n",
       "      <td>0.000000</td>\n",
       "      <td>0.035210</td>\n",
       "      <td>1126.639150</td>\n",
       "      <td>1117.617850</td>\n",
       "      <td>1124.271652</td>\n",
       "      <td>1.027625</td>\n",
       "      <td>17.090000</td>\n",
       "      <td>22.475061</td>\n",
       "      <td>0.031315</td>\n",
       "      <td>1.000000</td>\n",
       "    </tr>\n",
       "    <tr>\n",
       "      <th>max</th>\n",
       "      <td>5.881806</td>\n",
       "      <td>0.105789</td>\n",
       "      <td>2091.446696</td>\n",
       "      <td>2075.318569</td>\n",
       "      <td>2053.950002</td>\n",
       "      <td>1.088396</td>\n",
       "      <td>43.160000</td>\n",
       "      <td>124.663491</td>\n",
       "      <td>0.136364</td>\n",
       "      <td>1.000000</td>\n",
       "    </tr>\n",
       "  </tbody>\n",
       "</table>\n",
       "</div>"
      ],
      "text/plain": [
       "             Mmtm  Log_change         3sma         7sma        12sma  \\\n",
       "count  592.000000  592.000000   592.000000   592.000000   592.000000   \n",
       "mean    -0.006066    0.007138   709.308274   673.792203   629.875814   \n",
       "std      0.706694    0.043255   493.504501   516.667293   540.415523   \n",
       "min     -5.706200   -0.185636     0.000000     0.000000     0.000000   \n",
       "25%      0.000000   -0.019329   350.016663   339.249996   333.917498   \n",
       "50%      0.000000    0.009544   400.363332   394.948569   386.938332   \n",
       "75%      0.000000    0.035210  1126.639150  1117.617850  1124.271652   \n",
       "max      5.881806    0.105789  2091.446696  2075.318569  2053.950002   \n",
       "\n",
       "       SP500/90MVA      dvrate          PE         Pol        Pred  \n",
       "count   592.000000  592.000000  592.000000  592.000000  592.000000  \n",
       "mean      0.966599   16.550122   21.375812    0.019503    0.326014  \n",
       "std       0.201400    7.322034   12.002254    0.033680    0.469149  \n",
       "min       0.000000   11.040000    0.000000    0.000000    0.000000  \n",
       "25%       0.987878   12.120000   16.136394    0.000000    0.000000  \n",
       "50%       1.009751   12.840000   18.616514    0.000000    0.000000  \n",
       "75%       1.027625   17.090000   22.475061    0.031315    1.000000  \n",
       "max       1.088396   43.160000  124.663491    0.136364    1.000000  "
      ]
     },
     "execution_count": 73,
     "metadata": {},
     "output_type": "execute_result"
    }
   ],
   "source": [
    "# Our final set of X-Variables\n",
    "df_x.describe()"
   ]
  },
  {
   "cell_type": "markdown",
   "metadata": {},
   "source": [
    "### Building our Models"
   ]
  },
  {
   "cell_type": "code",
   "execution_count": 74,
   "metadata": {
    "collapsed": true
   },
   "outputs": [],
   "source": [
    "X_train, X_test, y_train, y_test = train_test_split(df_x, df_y, test_size=0.3, random_state=42)"
   ]
  },
  {
   "cell_type": "code",
   "execution_count": 75,
   "metadata": {
    "collapsed": true
   },
   "outputs": [],
   "source": [
    "def roc_curve(y_test,y_predicted_probability,pos_label=None):\n",
    "    if pos_label==None:\n",
    "        pos_label=1\n",
    "    fpr,tpr,thresholds=metrics.roc_curve(y_test,y_predicted_probability,pos_label=pos_label )\n",
    "    plt.plot(fpr,tpr)\n",
    "    plt.xlabel(\"False Positive rate\")\n",
    "    plt.ylabel(\"True Positive rate\")\n",
    "    plt.title(\"ROC Curve\")\n",
    "    plt.xlim(0.0,1.0)\n",
    "    plt.ylim(0.0,1.0)\n",
    "    plt.grid(True)\n",
    "    print \"AUC of the model is {:.10f}\".format(metrics.roc_auc_score(y_test,y_predicted_probability))\n",
    "    plt.show()"
   ]
  },
  {
   "cell_type": "markdown",
   "metadata": {},
   "source": [
    "#### Logistic Regression Model"
   ]
  },
  {
   "cell_type": "code",
   "execution_count": 76,
   "metadata": {
    "collapsed": true
   },
   "outputs": [],
   "source": [
    "lgtr = linear_model.LogisticRegression(penalty= \"l1\")"
   ]
  },
  {
   "cell_type": "code",
   "execution_count": 77,
   "metadata": {
    "collapsed": true
   },
   "outputs": [],
   "source": [
    "lgtr = lgtr.fit(X_train,y_train)"
   ]
  },
  {
   "cell_type": "code",
   "execution_count": 78,
   "metadata": {
    "collapsed": true
   },
   "outputs": [],
   "source": [
    "y_predlrm = lgtr.predict(X_test)"
   ]
  },
  {
   "cell_type": "code",
   "execution_count": 79,
   "metadata": {},
   "outputs": [
    {
     "name": "stdout",
     "output_type": "stream",
     "text": [
      "Accuracy:  1.0\n",
      "Precision:  1.0\n",
      "Recall:  1.0\n"
     ]
    }
   ],
   "source": [
    "print \"Accuracy: \",accuracy_score(y_test, y_predlrm)\n",
    "print \"Precision: \",precision_score(y_test, y_predlrm)\n",
    "print \"Recall: \",recall_score(y_test, y_predlrm)"
   ]
  },
  {
   "cell_type": "code",
   "execution_count": 80,
   "metadata": {},
   "outputs": [
    {
     "name": "stdout",
     "output_type": "stream",
     "text": [
      "AUC of the model is 1.0000000000\n"
     ]
    },
    {
     "data": {
      "image/png": "[encoded data removed]",
      "text/plain": [
       "<matplotlib.figure.Figure at 0x11b2b240>"
      ]
     },
     "metadata": {},
     "output_type": "display_data"
    }
   ],
   "source": [
    "roc_curve(y_test,y_predlrm,pos_label=None)"
   ]
  },
  {
   "cell_type": "markdown",
   "metadata": {},
   "source": [
    "##### Logistic Regression with Cross Validation"
   ]
  },
  {
   "cell_type": "code",
   "execution_count": 103,
   "metadata": {},
   "outputs": [],
   "source": [
    "cvlr = cross_validation.KFold(len(df_x), n_folds=10, shuffle=False, random_state=None)"
   ]
  },
  {
   "cell_type": "code",
   "execution_count": null,
   "metadata": {
    "collapsed": true
   },
   "outputs": [],
   "source": [
    "for traincv, testcv in cvlr:\n",
    "    classifier = nltk.NaiveBayesClassifier.train(training_set[traincv[0]:traincv[len(traincv)-1]])\n",
    "    print 'accuracy:', nltk.classify.util.accuracy(classifier, training_set[testcv[0]:testcv[len(testcv)-1]])"
   ]
  },
  {
   "cell_type": "code",
   "execution_count": 105,
   "metadata": {},
   "outputs": [],
   "source": [
    "models = []\n",
    "models.append(('LR', LogisticRegression(penalty= \"l1\")))\n",
    "models.append(('RF', RandomForestClassifier(n_estimators = 100, oob_score =  True, random_state = 42)))\n",
    "models.append(('SVM', SVC(kernel= \"poly\")))\n",
    "models.append(('MLP', MLPClassifier(solver='lbfgs',hidden_layer_sizes=(66,33,10,1), max_iter =1000000,batch_size=2000)))\n",
    "#Evaluate each model\n",
    "#K-fold for more accuracy (but slow; all the data is used for testing and training)\n",
    "results = []\n",
    "names = []"
   ]
  },
  {
   "cell_type": "code",
   "execution_count": 118,
   "metadata": {},
   "outputs": [
    {
     "name": "stdout",
     "output_type": "stream",
     "text": [
      "LR: 1.000000 0.924324\n",
      "RF: 1.000000 1.000000\n",
      "SVM: 0.900000 0.900000\n",
      "MLP: 0.100000 0.000000\n"
     ]
    }
   ],
   "source": [
    "for name, model in models:\n",
    "    kfold = KFold(n_splits = 10, random_state = seed)\n",
    "    cv_results = cross_val_score(model, df_x, df_y, cv = kfold, scoring = \"precision\")\n",
    "    cv_results1 = cross_val_score(model, df_x, df_y, cv = kfold, scoring = \"recall\")\n",
    "    results.append(cv_results)\n",
    "    names.append(name)\n",
    "    msg = \"%s: %f %f\" % (name, cv_results.mean(), cv_results1.mean())\n",
    "    print(msg)"
   ]
  },
  {
   "cell_type": "code",
   "execution_count": null,
   "metadata": {
    "collapsed": true
   },
   "outputs": [],
   "source": []
  },
  {
   "cell_type": "markdown",
   "metadata": {},
   "source": [
    "#### SVM Model"
   ]
  },
  {
   "cell_type": "code",
   "execution_count": 81,
   "metadata": {
    "collapsed": true
   },
   "outputs": [],
   "source": [
    "# Creating a Model using Polynomial kernel\n",
    "psvm = svm.SVC(kernel= \"poly\")"
   ]
  },
  {
   "cell_type": "code",
   "execution_count": 82,
   "metadata": {},
   "outputs": [
    {
     "data": {
      "text/plain": [
       "SVC(C=1.0, cache_size=200, class_weight=None, coef0=0.0,\n",
       "  decision_function_shape='ovr', degree=3, gamma='auto', kernel='poly',\n",
       "  max_iter=-1, probability=False, random_state=None, shrinking=True,\n",
       "  tol=0.001, verbose=False)"
      ]
     },
     "execution_count": 82,
     "metadata": {},
     "output_type": "execute_result"
    }
   ],
   "source": [
    "psvm.fit(X_train,y_train)"
   ]
  },
  {
   "cell_type": "code",
   "execution_count": 83,
   "metadata": {
    "collapsed": true
   },
   "outputs": [],
   "source": [
    "y_predpsvm = psvm.predict(X_test)"
   ]
  },
  {
   "cell_type": "code",
   "execution_count": 84,
   "metadata": {},
   "outputs": [
    {
     "name": "stdout",
     "output_type": "stream",
     "text": [
      "Accuracy:  1.0\n",
      "Precision:  1.0\n",
      "Recall:  1.0\n"
     ]
    }
   ],
   "source": [
    "print \"Accuracy: \",accuracy_score(y_test, y_predpsvm)\n",
    "print \"Precision: \",precision_score(y_test, y_predpsvm)\n",
    "print \"Recall: \",recall_score(y_test, y_predpsvm)"
   ]
  },
  {
   "cell_type": "code",
   "execution_count": 85,
   "metadata": {},
   "outputs": [
    {
     "name": "stdout",
     "output_type": "stream",
     "text": [
      "AUC of the model is 1.0000000000\n"
     ]
    },
    {
     "data": {
      "image/png": "[encoded data removed]",
      "text/plain": [
       "<matplotlib.figure.Figure at 0x115d60f0>"
      ]
     },
     "metadata": {},
     "output_type": "display_data"
    }
   ],
   "source": [
    "roc_curve(y_test,y_predpsvm,pos_label=None)"
   ]
  },
  {
   "cell_type": "markdown",
   "metadata": {},
   "source": [
    "#### Random Forest Model"
   ]
  },
  {
   "cell_type": "code",
   "execution_count": 86,
   "metadata": {
    "collapsed": true
   },
   "outputs": [],
   "source": [
    "rfr = RandomForestClassifier(n_estimators = 100, oob_score =  True, random_state = 42)"
   ]
  },
  {
   "cell_type": "code",
   "execution_count": 87,
   "metadata": {
    "collapsed": true
   },
   "outputs": [],
   "source": [
    "rfr = rfr.fit(X_train,y_train)"
   ]
  },
  {
   "cell_type": "code",
   "execution_count": 88,
   "metadata": {
    "collapsed": true
   },
   "outputs": [],
   "source": [
    "y_predrfr = rfr.predict(X_test)"
   ]
  },
  {
   "cell_type": "code",
   "execution_count": 89,
   "metadata": {},
   "outputs": [
    {
     "name": "stdout",
     "output_type": "stream",
     "text": [
      "Accuracy:  1.0\n",
      "Precision:  1.0\n",
      "Recall:  1.0\n"
     ]
    }
   ],
   "source": [
    "print \"Accuracy: \",accuracy_score(y_test, y_predrfr)\n",
    "print \"Precision: \",precision_score(y_test, y_predrfr)\n",
    "print \"Recall: \",recall_score(y_test, y_predrfr)"
   ]
  },
  {
   "cell_type": "code",
   "execution_count": 90,
   "metadata": {},
   "outputs": [
    {
     "name": "stdout",
     "output_type": "stream",
     "text": [
      "AUC of the model is 1.0000000000\n"
     ]
    },
    {
     "data": {
      "image/png": "[encoded data removed]",
      "text/plain": [
       "<matplotlib.figure.Figure at 0x114bcf28>"
      ]
     },
     "metadata": {},
     "output_type": "display_data"
    }
   ],
   "source": [
    "roc_curve(y_test,y_predrfr,pos_label=None)"
   ]
  },
  {
   "cell_type": "markdown",
   "metadata": {},
   "source": [
    "#### Neural Network Model"
   ]
  },
  {
   "cell_type": "code",
   "execution_count": 91,
   "metadata": {
    "collapsed": true
   },
   "outputs": [],
   "source": [
    "nnm = MLPClassifier(solver='lbfgs',hidden_layer_sizes=(66,33,10,1), max_iter =1000000,batch_size=2000)"
   ]
  },
  {
   "cell_type": "code",
   "execution_count": 92,
   "metadata": {
    "collapsed": true
   },
   "outputs": [],
   "source": [
    "nnm = nnm.fit(X_train.as_matrix().astype(np.float), y_train.values.ravel())"
   ]
  },
  {
   "cell_type": "code",
   "execution_count": 93,
   "metadata": {
    "collapsed": true
   },
   "outputs": [],
   "source": [
    "y_prednnm = nnm.predict(X_test)"
   ]
  },
  {
   "cell_type": "code",
   "execution_count": 95,
   "metadata": {},
   "outputs": [
    {
     "name": "stdout",
     "output_type": "stream",
     "text": [
      "Accuracy:  0.702247191011\n",
      "Precision:  0.0\n",
      "Recall:  0.0\n"
     ]
    }
   ],
   "source": [
    "print \"Accuracy: \",accuracy_score(y_test, y_prednnm)\n",
    "print \"Precision: \",precision_score(y_test, y_prednnm)\n",
    "print \"Recall: \",recall_score(y_test, y_prednnm)"
   ]
  },
  {
   "cell_type": "code",
   "execution_count": 96,
   "metadata": {},
   "outputs": [
    {
     "name": "stdout",
     "output_type": "stream",
     "text": [
      "AUC of the model is 0.5000000000\n"
     ]
    },
    {
     "data": {
      "image/png": "[encoded data removed]",
      "text/plain": [
       "<matplotlib.figure.Figure at 0x11f6d748>"
      ]
     },
     "metadata": {},
     "output_type": "display_data"
    }
   ],
   "source": [
    "roc_curve(y_test,y_prednnm,pos_label=None)"
   ]
  },
  {
   "cell_type": "code",
   "execution_count": null,
   "metadata": {
    "collapsed": true
   },
   "outputs": [],
   "source": []
  }
 ],
 "metadata": {
  "kernelspec": {
   "display_name": "Python 2",
   "language": "python",
   "name": "python2"
  },
  "language_info": {
   "codemirror_mode": {
    "name": "ipython",
    "version": 2
   },
   "file_extension": ".py",
   "mimetype": "text/x-python",
   "name": "python",
   "nbconvert_exporter": "python",
   "pygments_lexer": "ipython2",
   "version": "2.7.14"
  }
 },
 "nbformat": 4,
 "nbformat_minor": 2
}
