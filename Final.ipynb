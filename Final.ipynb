{
 "cells": [
  {
   "cell_type": "code",
   "execution_count": 1,
   "metadata": {
    "collapsed": true
   },
   "outputs": [],
   "source": [
    "# Importing necessary Libraries"
   ]
  },
  {
   "cell_type": "code",
   "execution_count": 2,
   "metadata": {},
   "outputs": [
    {
     "name": "stderr",
     "output_type": "stream",
     "text": [
      "/Users/kanduri/anaconda3/envs/ipykernel_py2/lib/python2.7/site-packages/sklearn/cross_validation.py:41: DeprecationWarning: This module was deprecated in version 0.18 in favor of the model_selection module into which all the refactored classes and functions are moved. Also note that the interface of the new CV iterators are different from that of this module. This module will be removed in 0.20.\n",
      "  \"This module will be removed in 0.20.\", DeprecationWarning)\n",
      "/Users/kanduri/anaconda3/envs/ipykernel_py2/lib/python2.7/site-packages/sklearn/grid_search.py:42: DeprecationWarning: This module was deprecated in version 0.18 in favor of the model_selection module into which all the refactored classes and functions are moved. This module will be removed in 0.20.\n",
      "  DeprecationWarning)\n",
      "/Users/kanduri/anaconda3/envs/ipykernel_py2/lib/python2.7/site-packages/sklearn/learning_curve.py:22: DeprecationWarning: This module was deprecated in version 0.18 in favor of the model_selection module into which all the functions are moved. This module will be removed in 0.20\n",
      "  DeprecationWarning)\n"
     ]
    }
   ],
   "source": [
    "import matplotlib.pyplot as plt\n",
    "import pandas as pd\n",
    "import sklearn as sk\n",
    "import numpy as np\n",
    "from sklearn import linear_model\n",
    "from sklearn.metrics import (brier_score_loss, precision_score, recall_score,\n",
    "                             f1_score)\n",
    "from sklearn.cross_validation import cross_val_score\n",
    "from sklearn.metrics import confusion_matrix\n",
    "import sklearn.metrics as  metrics\n",
    "from IPython.display import display\n",
    "from sklearn.cross_validation import train_test_split\n",
    "#from sklearn.cross_validation import  cross_val_score\n",
    "from sklearn.model_selection import  cross_val_score\n",
    "from sklearn.grid_search import GridSearchCV\n",
    "from sklearn import tree\n",
    "from sklearn import naive_bayes\n",
    "from sklearn.learning_curve import learning_curve\n",
    "from sklearn import cross_validation\n",
    "from sklearn.metrics import  make_scorer\n",
    "from sklearn.svm import SVC\n",
    "from sklearn.neural_network import MLPClassifier\n",
    "from docx import Document\n",
    "import os\n",
    "from sklearn import cross_validation"
   ]
  },
  {
   "cell_type": "code",
   "execution_count": 3,
   "metadata": {
    "collapsed": true
   },
   "outputs": [],
   "source": [
    "import pandas as pd\n",
    "import datetime\n",
    "import time\n",
    "from datetime import date\n",
    "import numpy as np\n",
    "import math\n",
    "from sklearn.model_selection import train_test_split\n",
    "from sklearn.linear_model import LogisticRegression\n",
    "import matplotlib.pyplot as plt\n",
    "from sklearn import linear_model, decomposition, datasets\n",
    "from sklearn.linear_model import LogisticRegression\n",
    "from sklearn.metrics import precision_recall_fscore_support\n",
    "from sklearn.metrics import accuracy_score, f1_score, precision_score, recall_score, classification_report, confusion_matrix\n",
    "import pandas as pd\n",
    "from docx import Document\n",
    "import nltk\n",
    "import textblob\n",
    "from sklearn.model_selection import KFold, cross_val_score, train_test_split"
   ]
  },
  {
   "cell_type": "code",
   "execution_count": 4,
   "metadata": {
    "collapsed": true
   },
   "outputs": [],
   "source": [
    "from sklearn.ensemble import RandomForestRegressor\n",
    "from sklearn.ensemble import RandomForestClassifier\n",
    "from sklearn.metrics import roc_auc_score\n",
    "from sklearn import svm\n",
    "from sklearn.metrics import (brier_score_loss, precision_score, recall_score,\n",
    "                             f1_score)\n",
    "from sklearn.svm import SVC"
   ]
  },
  {
   "cell_type": "markdown",
   "metadata": {},
   "source": [
    "### Creating Technical Dataset"
   ]
  },
  {
   "cell_type": "code",
   "execution_count": 5,
   "metadata": {
    "collapsed": true
   },
   "outputs": [],
   "source": [
    "spy = pd.read_csv(\"SPY.csv\")"
   ]
  },
  {
   "cell_type": "code",
   "execution_count": 6,
   "metadata": {
    "collapsed": true
   },
   "outputs": [],
   "source": [
    "sp = spy[:309]"
   ]
  },
  {
   "cell_type": "code",
   "execution_count": 7,
   "metadata": {
    "collapsed": true
   },
   "outputs": [],
   "source": [
    "sp = sp[[\"Date\",\"Close\",\"Volume\"]]"
   ]
  },
  {
   "cell_type": "markdown",
   "metadata": {},
   "source": [
    "### Creating additional technical variables"
   ]
  },
  {
   "cell_type": "code",
   "execution_count": 8,
   "metadata": {
    "collapsed": true
   },
   "outputs": [],
   "source": [
    "# Creating Momentum variable as Mmtm\n",
    "sp[\"Mmtm\"] = (sp[\"Close\"]-sp[\"Close\"].shift()) * sp[\"Volume\"]"
   ]
  },
  {
   "cell_type": "code",
   "execution_count": 9,
   "metadata": {},
   "outputs": [
    {
     "name": "stderr",
     "output_type": "stream",
     "text": [
      "/Users/kanduri/anaconda3/envs/ipykernel_py2/lib/python2.7/site-packages/ipykernel_launcher.py:2: FutureWarning: pd.rolling_mean is deprecated for Series and will be removed in a future version, replace with \n",
      "\tSeries.rolling(window=3,center=False).mean()\n",
      "  \n",
      "/Users/kanduri/anaconda3/envs/ipykernel_py2/lib/python2.7/site-packages/ipykernel_launcher.py:3: FutureWarning: pd.rolling_mean is deprecated for Series and will be removed in a future version, replace with \n",
      "\tSeries.rolling(window=7,center=False).mean()\n",
      "  This is separate from the ipykernel package so we can avoid doing imports until\n",
      "/Users/kanduri/anaconda3/envs/ipykernel_py2/lib/python2.7/site-packages/ipykernel_launcher.py:4: FutureWarning: pd.rolling_mean is deprecated for Series and will be removed in a future version, replace with \n",
      "\tSeries.rolling(window=12,center=False).mean()\n",
      "  after removing the cwd from sys.path.\n"
     ]
    }
   ],
   "source": [
    "sp[\"Log_change\"] = np.log(sp.Close) - np.log(sp.Close.shift(1))\n",
    "sp[\"3sma\"] = pd.rolling_mean(sp[\"Close\"],3)\n",
    "sp[\"7sma\"] = pd.rolling_mean(sp[\"Close\"],7)\n",
    "sp[\"12sma\"] = pd.rolling_mean(sp[\"Close\"],12)"
   ]
  },
  {
   "cell_type": "code",
   "execution_count": 10,
   "metadata": {
    "collapsed": true
   },
   "outputs": [],
   "source": [
    "# Creating SP500/90 day MVA variable\n",
    "sp[\"SP500/90MVA\"] = sp[\"Close\"]/sp[\"3sma\"]"
   ]
  },
  {
   "cell_type": "code",
   "execution_count": 11,
   "metadata": {
    "collapsed": true
   },
   "outputs": [],
   "source": [
    "sp1 = sp.drop(\"Volume\",1)"
   ]
  },
  {
   "cell_type": "code",
   "execution_count": 12,
   "metadata": {
    "collapsed": true
   },
   "outputs": [],
   "source": [
    "sp1 = sp1.fillna(0)"
   ]
  },
  {
   "cell_type": "code",
   "execution_count": 13,
   "metadata": {},
   "outputs": [
    {
     "data": {
      "text/html": [
       "<div>\n",
       "<style scoped>\n",
       "    .dataframe tbody tr th:only-of-type {\n",
       "        vertical-align: middle;\n",
       "    }\n",
       "\n",
       "    .dataframe tbody tr th {\n",
       "        vertical-align: top;\n",
       "    }\n",
       "\n",
       "    .dataframe thead th {\n",
       "        text-align: right;\n",
       "    }\n",
       "</style>\n",
       "<table border=\"1\" class=\"dataframe\">\n",
       "  <thead>\n",
       "    <tr style=\"text-align: right;\">\n",
       "      <th></th>\n",
       "      <th>Date</th>\n",
       "      <th>Close</th>\n",
       "      <th>Mmtm</th>\n",
       "      <th>Log_change</th>\n",
       "      <th>3sma</th>\n",
       "      <th>7sma</th>\n",
       "      <th>12sma</th>\n",
       "      <th>SP500/90MVA</th>\n",
       "    </tr>\n",
       "  </thead>\n",
       "  <tbody>\n",
       "    <tr>\n",
       "      <th>0</th>\n",
       "      <td>1990-01-01</td>\n",
       "      <td>329.079987</td>\n",
       "      <td>0.000000e+00</td>\n",
       "      <td>0.000000</td>\n",
       "      <td>0.000000</td>\n",
       "      <td>0.0</td>\n",
       "      <td>0.0</td>\n",
       "      <td>0.000000</td>\n",
       "    </tr>\n",
       "    <tr>\n",
       "      <th>1</th>\n",
       "      <td>1990-02-01</td>\n",
       "      <td>331.890015</td>\n",
       "      <td>8.323219e+09</td>\n",
       "      <td>0.008503</td>\n",
       "      <td>0.000000</td>\n",
       "      <td>0.0</td>\n",
       "      <td>0.0</td>\n",
       "      <td>0.000000</td>\n",
       "    </tr>\n",
       "    <tr>\n",
       "      <th>2</th>\n",
       "      <td>1990-03-01</td>\n",
       "      <td>339.940002</td>\n",
       "      <td>2.643036e+10</td>\n",
       "      <td>0.023966</td>\n",
       "      <td>333.636668</td>\n",
       "      <td>0.0</td>\n",
       "      <td>0.0</td>\n",
       "      <td>1.018893</td>\n",
       "    </tr>\n",
       "    <tr>\n",
       "      <th>3</th>\n",
       "      <td>1990-04-01</td>\n",
       "      <td>330.799988</td>\n",
       "      <td>-2.560319e+10</td>\n",
       "      <td>-0.027255</td>\n",
       "      <td>334.210002</td>\n",
       "      <td>0.0</td>\n",
       "      <td>0.0</td>\n",
       "      <td>0.989797</td>\n",
       "    </tr>\n",
       "    <tr>\n",
       "      <th>4</th>\n",
       "      <td>1990-05-01</td>\n",
       "      <td>361.230011</td>\n",
       "      <td>1.094471e+11</td>\n",
       "      <td>0.088001</td>\n",
       "      <td>343.990000</td>\n",
       "      <td>0.0</td>\n",
       "      <td>0.0</td>\n",
       "      <td>1.050118</td>\n",
       "    </tr>\n",
       "  </tbody>\n",
       "</table>\n",
       "</div>"
      ],
      "text/plain": [
       "         Date       Close          Mmtm  Log_change        3sma  7sma  12sma  \\\n",
       "0  1990-01-01  329.079987  0.000000e+00    0.000000    0.000000   0.0    0.0   \n",
       "1  1990-02-01  331.890015  8.323219e+09    0.008503    0.000000   0.0    0.0   \n",
       "2  1990-03-01  339.940002  2.643036e+10    0.023966  333.636668   0.0    0.0   \n",
       "3  1990-04-01  330.799988 -2.560319e+10   -0.027255  334.210002   0.0    0.0   \n",
       "4  1990-05-01  361.230011  1.094471e+11    0.088001  343.990000   0.0    0.0   \n",
       "\n",
       "   SP500/90MVA  \n",
       "0     0.000000  \n",
       "1     0.000000  \n",
       "2     1.018893  \n",
       "3     0.989797  \n",
       "4     1.050118  "
      ]
     },
     "execution_count": 13,
     "metadata": {},
     "output_type": "execute_result"
    }
   ],
   "source": [
    "sp1.head()"
   ]
  },
  {
   "cell_type": "markdown",
   "metadata": {},
   "source": [
    "### Preparing fundamental Dataset"
   ]
  },
  {
   "cell_type": "code",
   "execution_count": 14,
   "metadata": {
    "collapsed": true
   },
   "outputs": [],
   "source": [
    "fund = pd.read_csv(\"f1.csv\")\n",
    "tentsy = pd.read_csv(\"10 tsy.csv\")\n",
    "fivetsy = pd.read_csv(\"5 tsy.csv\")\n",
    "twotsy = pd.read_csv(\"2 tsy.csv\")"
   ]
  },
  {
   "cell_type": "code",
   "execution_count": 15,
   "metadata": {
    "collapsed": true
   },
   "outputs": [],
   "source": [
    "#dvrate = Annualized dividend rate\n",
    "#EPS = Earnings per Share\n",
    "#Prcrcm =  Closing Price\n",
    "#10 Tsy = 10 year treasury rate\n",
    "#5 Tsy = 5 year treasury rate\n",
    "#2 Tsy = 2 year treasury rate"
   ]
  },
  {
   "cell_type": "code",
   "execution_count": 16,
   "metadata": {
    "collapsed": true
   },
   "outputs": [],
   "source": [
    "fund = fund[[\"dvrate\",\"epsx12\",\"prccm\",\"datadate\"]]\n",
    "fund[\"PE\"] = fund[\"prccm\"]/fund[\"epsx12\"]\n",
    "fund = fund[[\"dvrate\",\"datadate\",\"PE\"]]\n",
    "fund[\"Date\"] = fund['datadate'].apply(lambda x: pd.to_datetime(str(x), format='%Y%m%d'))\n",
    "fund = fund[[\"dvrate\",\"PE\"]]"
   ]
  },
  {
   "cell_type": "code",
   "execution_count": 17,
   "metadata": {
    "collapsed": true
   },
   "outputs": [],
   "source": [
    "TT = tentsy.reindex(index=tentsy.index[::-1])\n",
    "FT = fivetsy.reindex(index=fivetsy.index[::-1])\n",
    "TwT = twotsy.reindex(index=twotsy.index[::-1])"
   ]
  },
  {
   "cell_type": "code",
   "execution_count": 18,
   "metadata": {
    "collapsed": true
   },
   "outputs": [],
   "source": [
    "fnd = fund.copy()\n",
    "fnd[\"10 tsy\"] = TT[\"Price\"]\n",
    "fnd[\"5 tsy\"] = FT[\"Price\"]\n",
    "fnd[\"2 tsy\"] = TwT[\"Price\"]"
   ]
  },
  {
   "cell_type": "markdown",
   "metadata": {},
   "source": [
    "### Creating Sentimental Dataset"
   ]
  },
  {
   "cell_type": "code",
   "execution_count": 19,
   "metadata": {
    "collapsed": true
   },
   "outputs": [],
   "source": [
    "year = range(1990,2016)"
   ]
  },
  {
   "cell_type": "code",
   "execution_count": 20,
   "metadata": {
    "collapsed": true
   },
   "outputs": [],
   "source": [
    "yr = dict.fromkeys(year)"
   ]
  },
  {
   "cell_type": "code",
   "execution_count": 21,
   "metadata": {
    "collapsed": true
   },
   "outputs": [],
   "source": [
    "for key in yr.keys():\n",
    "    f = Document(str(key)+\".docx\")\n",
    "    yr[key] = []\n",
    "    p = []\n",
    "    s = []\n",
    "    for para in f.paragraphs:\n",
    "        an= textblob.TextBlob(para.text)\n",
    "        sn = an.sentiment\n",
    "        p.append(sn.polarity)\n",
    "        s.append(sn.subjectivity)\n",
    "    yr[key]= [sum(p)/len(p), sum(s)/len(s)]"
   ]
  },
  {
   "cell_type": "code",
   "execution_count": 22,
   "metadata": {
    "collapsed": true
   },
   "outputs": [],
   "source": [
    "sent = pd.DataFrame(yr.values())\n",
    "sent.columns = [\"Pol\", \"Sub\"]"
   ]
  },
  {
   "cell_type": "code",
   "execution_count": 23,
   "metadata": {
    "collapsed": true
   },
   "outputs": [],
   "source": [
    "pol = sent[\"Pol\"]\n",
    "pol1 = np.repeat(pol,12)\n",
    "sub = sent[\"Sub\"]\n",
    "sub1 = np.repeat(sub,12)\n",
    "snt = pd.DataFrame()\n",
    "snt[\"Pol\"] = pol1\n",
    "snt[\"Sub\"] = sub1\n",
    "snt =  snt[:309]"
   ]
  },
  {
   "cell_type": "code",
   "execution_count": 24,
   "metadata": {
    "collapsed": true
   },
   "outputs": [],
   "source": [
    "snt = snt.reset_index()\n",
    "snt = snt[[\"Pol\",\"Sub\"]]"
   ]
  },
  {
   "cell_type": "markdown",
   "metadata": {},
   "source": [
    "### Creating Final Dataset"
   ]
  },
  {
   "cell_type": "code",
   "execution_count": 25,
   "metadata": {
    "collapsed": true
   },
   "outputs": [],
   "source": [
    "df = sp1.copy()\n",
    "f2 = fnd.copy()\n",
    "s2 = snt.copy()"
   ]
  },
  {
   "cell_type": "code",
   "execution_count": 26,
   "metadata": {
    "collapsed": true
   },
   "outputs": [],
   "source": [
    "df = df.join(f2)\n",
    "df = df.join(s2) #DF is the final dataset"
   ]
  },
  {
   "cell_type": "code",
   "execution_count": 27,
   "metadata": {
    "collapsed": true
   },
   "outputs": [],
   "source": [
    "df[\"Pred\"] = np.where(df[\"Close\"]>df[\"Close\"].shift(),1,0)"
   ]
  },
  {
   "cell_type": "code",
   "execution_count": 28,
   "metadata": {},
   "outputs": [
    {
     "data": {
      "text/html": [
       "<div>\n",
       "<style scoped>\n",
       "    .dataframe tbody tr th:only-of-type {\n",
       "        vertical-align: middle;\n",
       "    }\n",
       "\n",
       "    .dataframe tbody tr th {\n",
       "        vertical-align: top;\n",
       "    }\n",
       "\n",
       "    .dataframe thead th {\n",
       "        text-align: right;\n",
       "    }\n",
       "</style>\n",
       "<table border=\"1\" class=\"dataframe\">\n",
       "  <thead>\n",
       "    <tr style=\"text-align: right;\">\n",
       "      <th></th>\n",
       "      <th>Date</th>\n",
       "      <th>Close</th>\n",
       "      <th>Mmtm</th>\n",
       "      <th>Log_change</th>\n",
       "      <th>3sma</th>\n",
       "      <th>7sma</th>\n",
       "      <th>12sma</th>\n",
       "      <th>SP500/90MVA</th>\n",
       "      <th>dvrate</th>\n",
       "      <th>PE</th>\n",
       "      <th>10 tsy</th>\n",
       "      <th>5 tsy</th>\n",
       "      <th>2 tsy</th>\n",
       "      <th>Pol</th>\n",
       "      <th>Sub</th>\n",
       "      <th>Pred</th>\n",
       "    </tr>\n",
       "  </thead>\n",
       "  <tbody>\n",
       "    <tr>\n",
       "      <th>0</th>\n",
       "      <td>1990-01-01</td>\n",
       "      <td>329.079987</td>\n",
       "      <td>0.000000e+00</td>\n",
       "      <td>0.000000</td>\n",
       "      <td>0.000000</td>\n",
       "      <td>0.0</td>\n",
       "      <td>0.0</td>\n",
       "      <td>0.000000</td>\n",
       "      <td>11.40</td>\n",
       "      <td>14.389777</td>\n",
       "      <td>2.269</td>\n",
       "      <td>1.766</td>\n",
       "      <td>1.064</td>\n",
       "      <td>0.03096</td>\n",
       "      <td>0.281961</td>\n",
       "      <td>0</td>\n",
       "    </tr>\n",
       "    <tr>\n",
       "      <th>1</th>\n",
       "      <td>1990-02-01</td>\n",
       "      <td>331.890015</td>\n",
       "      <td>8.323219e+09</td>\n",
       "      <td>0.008503</td>\n",
       "      <td>0.000000</td>\n",
       "      <td>0.0</td>\n",
       "      <td>0.0</td>\n",
       "      <td>0.000000</td>\n",
       "      <td>11.40</td>\n",
       "      <td>14.512655</td>\n",
       "      <td>2.208</td>\n",
       "      <td>1.654</td>\n",
       "      <td>0.934</td>\n",
       "      <td>0.03096</td>\n",
       "      <td>0.281961</td>\n",
       "      <td>1</td>\n",
       "    </tr>\n",
       "    <tr>\n",
       "      <th>2</th>\n",
       "      <td>1990-03-01</td>\n",
       "      <td>339.940002</td>\n",
       "      <td>2.643036e+10</td>\n",
       "      <td>0.023966</td>\n",
       "      <td>333.636668</td>\n",
       "      <td>0.0</td>\n",
       "      <td>0.0</td>\n",
       "      <td>1.018893</td>\n",
       "      <td>11.04</td>\n",
       "      <td>15.687120</td>\n",
       "      <td>2.146</td>\n",
       "      <td>1.528</td>\n",
       "      <td>0.736</td>\n",
       "      <td>0.03096</td>\n",
       "      <td>0.281961</td>\n",
       "      <td>1</td>\n",
       "    </tr>\n",
       "    <tr>\n",
       "      <th>3</th>\n",
       "      <td>1990-04-01</td>\n",
       "      <td>330.799988</td>\n",
       "      <td>-2.560319e+10</td>\n",
       "      <td>-0.027255</td>\n",
       "      <td>334.210002</td>\n",
       "      <td>0.0</td>\n",
       "      <td>0.0</td>\n",
       "      <td>0.989797</td>\n",
       "      <td>11.04</td>\n",
       "      <td>15.265335</td>\n",
       "      <td>2.035</td>\n",
       "      <td>1.375</td>\n",
       "      <td>0.645</td>\n",
       "      <td>0.03096</td>\n",
       "      <td>0.281961</td>\n",
       "      <td>0</td>\n",
       "    </tr>\n",
       "    <tr>\n",
       "      <th>4</th>\n",
       "      <td>1990-05-01</td>\n",
       "      <td>361.230011</td>\n",
       "      <td>1.094471e+11</td>\n",
       "      <td>0.088001</td>\n",
       "      <td>343.990000</td>\n",
       "      <td>0.0</td>\n",
       "      <td>0.0</td>\n",
       "      <td>1.050118</td>\n",
       "      <td>11.04</td>\n",
       "      <td>16.669589</td>\n",
       "      <td>2.214</td>\n",
       "      <td>1.541</td>\n",
       "      <td>0.739</td>\n",
       "      <td>0.03096</td>\n",
       "      <td>0.281961</td>\n",
       "      <td>1</td>\n",
       "    </tr>\n",
       "  </tbody>\n",
       "</table>\n",
       "</div>"
      ],
      "text/plain": [
       "         Date       Close          Mmtm  Log_change        3sma  7sma  12sma  \\\n",
       "0  1990-01-01  329.079987  0.000000e+00    0.000000    0.000000   0.0    0.0   \n",
       "1  1990-02-01  331.890015  8.323219e+09    0.008503    0.000000   0.0    0.0   \n",
       "2  1990-03-01  339.940002  2.643036e+10    0.023966  333.636668   0.0    0.0   \n",
       "3  1990-04-01  330.799988 -2.560319e+10   -0.027255  334.210002   0.0    0.0   \n",
       "4  1990-05-01  361.230011  1.094471e+11    0.088001  343.990000   0.0    0.0   \n",
       "\n",
       "   SP500/90MVA  dvrate         PE 10 tsy  5 tsy  2 tsy      Pol       Sub  \\\n",
       "0     0.000000   11.40  14.389777  2.269  1.766  1.064  0.03096  0.281961   \n",
       "1     0.000000   11.40  14.512655  2.208  1.654  0.934  0.03096  0.281961   \n",
       "2     1.018893   11.04  15.687120  2.146  1.528  0.736  0.03096  0.281961   \n",
       "3     0.989797   11.04  15.265335  2.035  1.375  0.645  0.03096  0.281961   \n",
       "4     1.050118   11.04  16.669589  2.214  1.541  0.739  0.03096  0.281961   \n",
       "\n",
       "   Pred  \n",
       "0     0  \n",
       "1     1  \n",
       "2     1  \n",
       "3     0  \n",
       "4     1  "
      ]
     },
     "execution_count": 28,
     "metadata": {},
     "output_type": "execute_result"
    }
   ],
   "source": [
    "df.head()"
   ]
  },
  {
   "cell_type": "markdown",
   "metadata": {},
   "source": [
    "### Data Manipulation"
   ]
  },
  {
   "cell_type": "code",
   "execution_count": 29,
   "metadata": {
    "collapsed": true
   },
   "outputs": [],
   "source": [
    "# Our goal is to predict the movement of the S&P 500 using the previous months data\n",
    "# For example, We have to predict the Febraury movement using the January Data\n",
    "# So Our target variable is 1 step ahead of the X-Variables\n",
    "# To Compensate we shift our target variable one step back wards"
   ]
  },
  {
   "cell_type": "code",
   "execution_count": 30,
   "metadata": {
    "collapsed": true
   },
   "outputs": [],
   "source": [
    "df[\"Pred\"] = df[\"Pred\"].shift(-1)\n",
    "df = df.fillna(0)"
   ]
  },
  {
   "cell_type": "markdown",
   "metadata": {},
   "source": [
    "### Creating Final Feature and Prediction variable Datasets"
   ]
  },
  {
   "cell_type": "code",
   "execution_count": 31,
   "metadata": {
    "collapsed": true
   },
   "outputs": [],
   "source": [
    "#Dataset of Dates\n",
    "df_date = df[\"Date\"]"
   ]
  },
  {
   "cell_type": "code",
   "execution_count": 32,
   "metadata": {
    "collapsed": true
   },
   "outputs": [],
   "source": [
    "# Dataset Of X-Variables\n",
    "df_x = df[[\"Mmtm\",\"Log_change\",\"3sma\",\"7sma\",\"12sma\",\"SP500/90MVA\",\"dvrate\",\"PE\",\"10 tsy\",\"5 tsy\",\"2 tsy\",\"Pol\",\"Sub\"]]"
   ]
  },
  {
   "cell_type": "code",
   "execution_count": 33,
   "metadata": {
    "collapsed": true
   },
   "outputs": [],
   "source": [
    "#Dataset Of Y-variables\n",
    "df_y = df[\"Pred\"]"
   ]
  },
  {
   "cell_type": "markdown",
   "metadata": {},
   "source": [
    "### Normalizing Data"
   ]
  },
  {
   "cell_type": "code",
   "execution_count": 34,
   "metadata": {
    "collapsed": true
   },
   "outputs": [],
   "source": [
    "#This data is Panel data.So, the terms like Close and Volume will consistetly increase with time.\n",
    "#So it doesn't make any sense to Normalize the data\n",
    "#So instead we take the Log differntiation for some Momentum variable to solve this.\n",
    "# We are doing this only for momentum variable because they differ from other variables by a very large margin"
   ]
  },
  {
   "cell_type": "code",
   "execution_count": 35,
   "metadata": {},
   "outputs": [
    {
     "name": "stderr",
     "output_type": "stream",
     "text": [
      "/Users/kanduri/anaconda3/envs/ipykernel_py2/lib/python2.7/site-packages/ipykernel_launcher.py:1: RuntimeWarning: divide by zero encountered in log\n",
      "  \"\"\"Entry point for launching an IPython kernel.\n",
      "/Users/kanduri/anaconda3/envs/ipykernel_py2/lib/python2.7/site-packages/ipykernel_launcher.py:1: RuntimeWarning: invalid value encountered in log\n",
      "  \"\"\"Entry point for launching an IPython kernel.\n",
      "/Users/kanduri/anaconda3/envs/ipykernel_py2/lib/python2.7/site-packages/ipykernel_launcher.py:1: SettingWithCopyWarning: \n",
      "A value is trying to be set on a copy of a slice from a DataFrame.\n",
      "Try using .loc[row_indexer,col_indexer] = value instead\n",
      "\n",
      "See the caveats in the documentation: http://pandas.pydata.org/pandas-docs/stable/indexing.html#indexing-view-versus-copy\n",
      "  \"\"\"Entry point for launching an IPython kernel.\n"
     ]
    }
   ],
   "source": [
    "df_x[\"Mmtm\"] = np.log(df_x.Mmtm) - np.log(df_x.Mmtm.shift(1))"
   ]
  },
  {
   "cell_type": "code",
   "execution_count": 36,
   "metadata": {
    "collapsed": true
   },
   "outputs": [],
   "source": [
    "df_x = df_x.replace(np.inf, np.nan)\n",
    "df_x=df_x.fillna(0)"
   ]
  },
  {
   "cell_type": "code",
   "execution_count": 37,
   "metadata": {},
   "outputs": [
    {
     "data": {
      "text/html": [
       "<div>\n",
       "<style scoped>\n",
       "    .dataframe tbody tr th:only-of-type {\n",
       "        vertical-align: middle;\n",
       "    }\n",
       "\n",
       "    .dataframe tbody tr th {\n",
       "        vertical-align: top;\n",
       "    }\n",
       "\n",
       "    .dataframe thead th {\n",
       "        text-align: right;\n",
       "    }\n",
       "</style>\n",
       "<table border=\"1\" class=\"dataframe\">\n",
       "  <thead>\n",
       "    <tr style=\"text-align: right;\">\n",
       "      <th></th>\n",
       "      <th>Mmtm</th>\n",
       "      <th>Log_change</th>\n",
       "      <th>3sma</th>\n",
       "      <th>7sma</th>\n",
       "      <th>12sma</th>\n",
       "      <th>SP500/90MVA</th>\n",
       "      <th>dvrate</th>\n",
       "      <th>PE</th>\n",
       "      <th>10 tsy</th>\n",
       "      <th>5 tsy</th>\n",
       "      <th>2 tsy</th>\n",
       "      <th>Pol</th>\n",
       "      <th>Sub</th>\n",
       "    </tr>\n",
       "  </thead>\n",
       "  <tbody>\n",
       "    <tr>\n",
       "      <th>0</th>\n",
       "      <td>0.000000</td>\n",
       "      <td>0.000000</td>\n",
       "      <td>0.000000</td>\n",
       "      <td>0.0</td>\n",
       "      <td>0.0</td>\n",
       "      <td>0.000000</td>\n",
       "      <td>11.40</td>\n",
       "      <td>14.389777</td>\n",
       "      <td>2.269</td>\n",
       "      <td>1.766</td>\n",
       "      <td>1.064</td>\n",
       "      <td>0.03096</td>\n",
       "      <td>0.281961</td>\n",
       "    </tr>\n",
       "    <tr>\n",
       "      <th>1</th>\n",
       "      <td>0.000000</td>\n",
       "      <td>0.008503</td>\n",
       "      <td>0.000000</td>\n",
       "      <td>0.0</td>\n",
       "      <td>0.0</td>\n",
       "      <td>0.000000</td>\n",
       "      <td>11.40</td>\n",
       "      <td>14.512655</td>\n",
       "      <td>2.208</td>\n",
       "      <td>1.654</td>\n",
       "      <td>0.934</td>\n",
       "      <td>0.03096</td>\n",
       "      <td>0.281961</td>\n",
       "    </tr>\n",
       "    <tr>\n",
       "      <th>2</th>\n",
       "      <td>1.155464</td>\n",
       "      <td>0.023966</td>\n",
       "      <td>333.636668</td>\n",
       "      <td>0.0</td>\n",
       "      <td>0.0</td>\n",
       "      <td>1.018893</td>\n",
       "      <td>11.04</td>\n",
       "      <td>15.687120</td>\n",
       "      <td>2.146</td>\n",
       "      <td>1.528</td>\n",
       "      <td>0.736</td>\n",
       "      <td>0.03096</td>\n",
       "      <td>0.281961</td>\n",
       "    </tr>\n",
       "    <tr>\n",
       "      <th>3</th>\n",
       "      <td>0.000000</td>\n",
       "      <td>-0.027255</td>\n",
       "      <td>334.210002</td>\n",
       "      <td>0.0</td>\n",
       "      <td>0.0</td>\n",
       "      <td>0.989797</td>\n",
       "      <td>11.04</td>\n",
       "      <td>15.265335</td>\n",
       "      <td>2.035</td>\n",
       "      <td>1.375</td>\n",
       "      <td>0.645</td>\n",
       "      <td>0.03096</td>\n",
       "      <td>0.281961</td>\n",
       "    </tr>\n",
       "    <tr>\n",
       "      <th>4</th>\n",
       "      <td>0.000000</td>\n",
       "      <td>0.088001</td>\n",
       "      <td>343.990000</td>\n",
       "      <td>0.0</td>\n",
       "      <td>0.0</td>\n",
       "      <td>1.050118</td>\n",
       "      <td>11.04</td>\n",
       "      <td>16.669589</td>\n",
       "      <td>2.214</td>\n",
       "      <td>1.541</td>\n",
       "      <td>0.739</td>\n",
       "      <td>0.03096</td>\n",
       "      <td>0.281961</td>\n",
       "    </tr>\n",
       "  </tbody>\n",
       "</table>\n",
       "</div>"
      ],
      "text/plain": [
       "       Mmtm  Log_change        3sma  7sma  12sma  SP500/90MVA  dvrate  \\\n",
       "0  0.000000    0.000000    0.000000   0.0    0.0     0.000000   11.40   \n",
       "1  0.000000    0.008503    0.000000   0.0    0.0     0.000000   11.40   \n",
       "2  1.155464    0.023966  333.636668   0.0    0.0     1.018893   11.04   \n",
       "3  0.000000   -0.027255  334.210002   0.0    0.0     0.989797   11.04   \n",
       "4  0.000000    0.088001  343.990000   0.0    0.0     1.050118   11.04   \n",
       "\n",
       "          PE 10 tsy  5 tsy  2 tsy      Pol       Sub  \n",
       "0  14.389777  2.269  1.766  1.064  0.03096  0.281961  \n",
       "1  14.512655  2.208  1.654  0.934  0.03096  0.281961  \n",
       "2  15.687120  2.146  1.528  0.736  0.03096  0.281961  \n",
       "3  15.265335  2.035  1.375  0.645  0.03096  0.281961  \n",
       "4  16.669589  2.214  1.541  0.739  0.03096  0.281961  "
      ]
     },
     "execution_count": 37,
     "metadata": {},
     "output_type": "execute_result"
    }
   ],
   "source": [
    "# Our final set of X-Variables\n",
    "df_x.head()"
   ]
  },
  {
   "cell_type": "markdown",
   "metadata": {},
   "source": [
    "### Building our Models"
   ]
  },
  {
   "cell_type": "code",
   "execution_count": 38,
   "metadata": {},
   "outputs": [
    {
     "name": "stdout",
     "output_type": "stream",
     "text": [
      "         Mmtm  Log_change         3sma         7sma        12sma  SP500/90MVA  \\\n",
      "298 -0.308867    0.024237  2019.300049  1982.248587  1926.869161     1.023899   \n",
      "287 -0.125941    0.023289  1803.570028  1716.748587  1652.294169     1.024834   \n",
      "72   0.820153    0.032097   619.106669   592.452855   560.677503     1.027319   \n",
      "15  -4.195847    0.000320   372.543335   345.428571   343.500832     1.007507   \n",
      "10   0.000000    0.058207   310.756663   332.889997     0.000000     1.036888   \n",
      "\n",
      "     dvrate         PE 10 tsy  5 tsy  2 tsy       Pol       Sub  \n",
      "298  40.088  19.260350  8.045  7.707  7.074  0.101364  0.304467  \n",
      "287  38.084  18.216366  7.276  6.428  5.104  0.115225  0.280485  \n",
      "72   14.160  18.601965  3.837  2.684  1.143  0.000000  0.000000  \n",
      "15   11.160  17.925019  2.495  1.780  0.583  0.033642  0.275366  \n",
      "10   12.000  14.821527  1.996  1.504  0.626  0.030960  0.281961  \n"
     ]
    }
   ],
   "source": [
    "X_train, X_test, y_train, y_test = train_test_split(df_x, df_y, test_size=0.3, random_state=42)"
   ]
  },
  {
   "cell_type": "code",
   "execution_count": 39,
   "metadata": {
    "collapsed": true
   },
   "outputs": [],
   "source": [
    "def roc_curve(y_test,y_predicted_probability,pos_label=None):\n",
    "    if pos_label==None:\n",
    "        pos_label=1\n",
    "    fpr,tpr,thresholds=metrics.roc_curve(y_test,y_predicted_probability,pos_label=pos_label )\n",
    "    plt.plot(fpr,tpr)\n",
    "    plt.xlabel(\"False Positive rate\")\n",
    "    plt.ylabel(\"True Positive rate\")\n",
    "    plt.title(\"ROC Curve\")\n",
    "    plt.xlim(0.0,1.0)\n",
    "    plt.ylim(0.0,1.0)\n",
    "    plt.grid(True)\n",
    "    print \"AUC of the model is {:.10f}\".format(metrics.roc_auc_score(y_test,y_predicted_probability))\n",
    "    plt.show()"
   ]
  },
  {
   "cell_type": "markdown",
   "metadata": {},
   "source": [
    "#### Logistic Regression Model"
   ]
  },
  {
   "cell_type": "code",
   "execution_count": 40,
   "metadata": {
    "collapsed": true
   },
   "outputs": [],
   "source": [
    "lgtr = linear_model.LogisticRegression(penalty= \"l1\")"
   ]
  },
  {
   "cell_type": "code",
   "execution_count": 41,
   "metadata": {
    "collapsed": true
   },
   "outputs": [],
   "source": [
    "lgtr = lgtr.fit(X_train,y_train)"
   ]
  },
  {
   "cell_type": "code",
   "execution_count": 42,
   "metadata": {
    "collapsed": true
   },
   "outputs": [],
   "source": [
    "y_predlrm = lgtr.predict(X_test)"
   ]
  },
  {
   "cell_type": "code",
   "execution_count": 43,
   "metadata": {},
   "outputs": [
    {
     "name": "stdout",
     "output_type": "stream",
     "text": [
      "Accuracy:  0.537634408602\n",
      "Precision:  0.556818181818\n",
      "Recall:  0.924528301887\n"
     ]
    }
   ],
   "source": [
    "print \"Accuracy: \",accuracy_score(y_test, y_predlrm)\n",
    "print \"Precision: \",precision_score(y_test, y_predlrm)\n",
    "print \"Recall: \",recall_score(y_test, y_predlrm)"
   ]
  },
  {
   "cell_type": "code",
   "execution_count": 44,
   "metadata": {},
   "outputs": [
    {
     "name": "stdout",
     "output_type": "stream",
     "text": [
      "AUC of the model is 0.4747641509\n"
     ]
    },
    {
     "data": {
      "image/png": "[encoded data removed]",
      "text/plain": [
       "<matplotlib.figure.Figure at 0x118aebd90>"
      ]
     },
     "metadata": {},
     "output_type": "display_data"
    }
   ],
   "source": [
    "roc_curve(y_test,y_predlrm,pos_label=None)"
   ]
  },
  {
   "cell_type": "markdown",
   "metadata": {},
   "source": [
    "#### SVM Model"
   ]
  },
  {
   "cell_type": "code",
   "execution_count": 45,
   "metadata": {
    "collapsed": true
   },
   "outputs": [],
   "source": [
    "# Creating a Model using Polynomial kernel\n",
    "psvm = svm.SVC()"
   ]
  },
  {
   "cell_type": "code",
   "execution_count": 46,
   "metadata": {},
   "outputs": [
    {
     "data": {
      "text/plain": [
       "SVC(C=1.0, cache_size=200, class_weight=None, coef0=0.0,\n",
       "  decision_function_shape='ovr', degree=3, gamma='auto', kernel='rbf',\n",
       "  max_iter=-1, probability=False, random_state=None, shrinking=True,\n",
       "  tol=0.001, verbose=False)"
      ]
     },
     "execution_count": 46,
     "metadata": {},
     "output_type": "execute_result"
    }
   ],
   "source": [
    "psvm.fit(X_train,y_train)"
   ]
  },
  {
   "cell_type": "code",
   "execution_count": 47,
   "metadata": {
    "collapsed": true
   },
   "outputs": [],
   "source": [
    "y_predpsvm = psvm.predict(X_test)"
   ]
  },
  {
   "cell_type": "code",
   "execution_count": 48,
   "metadata": {},
   "outputs": [
    {
     "name": "stdout",
     "output_type": "stream",
     "text": [
      "Accuracy:  0.559139784946\n",
      "Precision:  0.565217391304\n",
      "Recall:  0.981132075472\n"
     ]
    }
   ],
   "source": [
    "print \"Accuracy: \",accuracy_score(y_test, y_predpsvm)\n",
    "print \"Precision: \",precision_score(y_test, y_predpsvm)\n",
    "print \"Recall: \",recall_score(y_test, y_predpsvm)"
   ]
  },
  {
   "cell_type": "code",
   "execution_count": 49,
   "metadata": {},
   "outputs": [
    {
     "name": "stdout",
     "output_type": "stream",
     "text": [
      "AUC of the model is 0.4905660377\n"
     ]
    },
    {
     "data": {
      "image/png": "[encoded data removed]",
      "text/plain": [
       "<matplotlib.figure.Figure at 0x118a71190>"
      ]
     },
     "metadata": {},
     "output_type": "display_data"
    }
   ],
   "source": [
    "roc_curve(y_test,y_predpsvm,pos_label=None)"
   ]
  },
  {
   "cell_type": "markdown",
   "metadata": {},
   "source": [
    "#### Random Forest Model"
   ]
  },
  {
   "cell_type": "code",
   "execution_count": 50,
   "metadata": {
    "collapsed": true
   },
   "outputs": [],
   "source": [
    "rfr = RandomForestClassifier(n_estimators = 100, oob_score =  True, random_state = 42)"
   ]
  },
  {
   "cell_type": "code",
   "execution_count": 51,
   "metadata": {
    "collapsed": true
   },
   "outputs": [],
   "source": [
    "rfr = rfr.fit(X_train,y_train)"
   ]
  },
  {
   "cell_type": "code",
   "execution_count": 52,
   "metadata": {
    "collapsed": true
   },
   "outputs": [],
   "source": [
    "y_predrfr = rfr.predict(X_test)"
   ]
  },
  {
   "cell_type": "code",
   "execution_count": 53,
   "metadata": {},
   "outputs": [
    {
     "name": "stdout",
     "output_type": "stream",
     "text": [
      "Accuracy:  0.612903225806\n",
      "Precision:  0.613333333333\n",
      "Recall:  0.867924528302\n"
     ]
    }
   ],
   "source": [
    "print \"Accuracy: \",accuracy_score(y_test, y_predrfr)\n",
    "print \"Precision: \",precision_score(y_test, y_predrfr)\n",
    "print \"Recall: \",recall_score(y_test, y_predrfr)"
   ]
  },
  {
   "cell_type": "code",
   "execution_count": 54,
   "metadata": {},
   "outputs": [
    {
     "name": "stdout",
     "output_type": "stream",
     "text": [
      "AUC of the model is 0.5714622642\n"
     ]
    },
    {
     "data": {
      "image/png": "[encoded data removed]",
      "text/plain": [
       "<matplotlib.figure.Figure at 0x11879a690>"
      ]
     },
     "metadata": {},
     "output_type": "display_data"
    }
   ],
   "source": [
    "roc_curve(y_test,y_predrfr,pos_label=None)"
   ]
  },
  {
   "cell_type": "markdown",
   "metadata": {},
   "source": [
    "#### Neural Network Model"
   ]
  },
  {
   "cell_type": "code",
   "execution_count": 55,
   "metadata": {
    "collapsed": true
   },
   "outputs": [],
   "source": [
    "nnm = MLPClassifier(solver='lbfgs',hidden_layer_sizes=(66,33,10,1), max_iter =1000000,batch_size=2000)"
   ]
  },
  {
   "cell_type": "code",
   "execution_count": 56,
   "metadata": {
    "collapsed": true
   },
   "outputs": [],
   "source": [
    "nnm = nnm.fit(X_train.as_matrix().astype(np.float), y_train.values.ravel())"
   ]
  },
  {
   "cell_type": "code",
   "execution_count": 57,
   "metadata": {
    "collapsed": true
   },
   "outputs": [],
   "source": [
    "y_prednnm = nnm.predict(X_test)"
   ]
  },
  {
   "cell_type": "code",
   "execution_count": 58,
   "metadata": {},
   "outputs": [
    {
     "name": "stdout",
     "output_type": "stream",
     "text": [
      "Accuracy:  0.569892473118\n",
      "Precision:  0.569892473118\n",
      "Recall:  1.0\n"
     ]
    }
   ],
   "source": [
    "print \"Accuracy: \",accuracy_score(y_test, y_prednnm)\n",
    "print \"Precision: \",precision_score(y_test, y_prednnm)\n",
    "print \"Recall: \",recall_score(y_test, y_prednnm)"
   ]
  },
  {
   "cell_type": "code",
   "execution_count": 59,
   "metadata": {},
   "outputs": [
    {
     "name": "stdout",
     "output_type": "stream",
     "text": [
      "AUC of the model is 0.5000000000\n"
     ]
    },
    {
     "data": {
      "image/png": "[encoded data removed]",
      "text/plain": [
       "<matplotlib.figure.Figure at 0x118dbbb10>"
      ]
     },
     "metadata": {},
     "output_type": "display_data"
    }
   ],
   "source": [
    "roc_curve(y_test,y_prednnm,pos_label=None)"
   ]
  },
  {
   "cell_type": "markdown",
   "metadata": {},
   "source": [
    "### Building Models with Cross Validation"
   ]
  },
  {
   "cell_type": "code",
   "execution_count": 60,
   "metadata": {
    "collapsed": true
   },
   "outputs": [],
   "source": [
    "models = []\n",
    "models.append(('LR', LogisticRegression(penalty= \"l1\")))\n",
    "models.append(('RF', RandomForestClassifier(n_estimators = 100, oob_score =  True, random_state = 42)))\n",
    "models.append(('SVM', SVC()))\n",
    "models.append(('MLP', MLPClassifier(solver='lbfgs',hidden_layer_sizes=(66,33,10,1), max_iter =1000000,batch_size=2000)))\n",
    "#Evaluate each model\n",
    "#K-fold for more accuracy (but slow; all the data is used for testing and training)\n",
    "results = []\n",
    "names = []"
   ]
  },
  {
   "cell_type": "code",
   "execution_count": 61,
   "metadata": {},
   "outputs": [
    {
     "name": "stdout",
     "output_type": "stream",
     "text": [
      "LR: 0.649024 0.867636\n",
      "RF: 0.691258 0.702917\n",
      "SVM: 0.623548 0.995455\n",
      "MLP: 0.628443 1.000000\n"
     ]
    }
   ],
   "source": [
    "for name, model in models:\n",
    "    kfold = KFold(n_splits = 10, random_state = 42)\n",
    "    cv_results = cross_val_score(model, df_x, df_y, cv = kfold, scoring = \"precision\")\n",
    "    cv_results1 = cross_val_score(model, df_x, df_y, cv = kfold, scoring = \"recall\")\n",
    "    results.append(cv_results)\n",
    "    names.append(name)\n",
    "    msg = \"%s: %f %f\" % (name, cv_results.mean(), cv_results1.mean())\n",
    "    print(msg)"
   ]
  },
  {
   "cell_type": "markdown",
   "metadata": {},
   "source": [
    "### Evaluating performance of each model with $1,00,000 investment"
   ]
  },
  {
   "cell_type": "code",
   "execution_count": 62,
   "metadata": {
    "collapsed": true
   },
   "outputs": [],
   "source": [
    "# roe is a function which shows the value of investment over 25 years\n",
    "def roe(model):\n",
    "    spy = sp[:310]\n",
    "    spy1 = spy[[\"Date\",\"Close\"]]\n",
    "    spy1[\"PctChange\"] = spy1[\"Close\"].pct_change()\n",
    "    spy1 = spy1.fillna(0)\n",
    "    pc = spy1[\"PctChange\"]\n",
    "    spy = spy1[\"PctChange\"]\n",
    "    pred = model.predict(df_x)\n",
    "    spy1[\"pred\"] = pred\n",
    "    pred1 = np.where(pred>0.0,1,-1)\n",
    "    spy1[\"pred1\"] = pred1\n",
    "    pct1 = pred1 * pc\n",
    "    spy1[\"pct1\"] = pct1\n",
    "    pct2 = pct1 + 1.0\n",
    "    spy1[\"pct2\"] = pct2\n",
    "    pctc = np.cumprod(pct2)\n",
    "    spy1[\"pctc\"] = pctc\n",
    "    inv = 100000.0 * pctc \n",
    "    spy1[\"Inv\"] = inv\n",
    "    return spy1[\"Inv\"]"
   ]
  },
  {
   "cell_type": "code",
   "execution_count": 63,
   "metadata": {},
   "outputs": [
    {
     "name": "stderr",
     "output_type": "stream",
     "text": [
      "/Users/kanduri/anaconda3/envs/ipykernel_py2/lib/python2.7/site-packages/ipykernel_launcher.py:5: SettingWithCopyWarning: \n",
      "A value is trying to be set on a copy of a slice from a DataFrame.\n",
      "Try using .loc[row_indexer,col_indexer] = value instead\n",
      "\n",
      "See the caveats in the documentation: http://pandas.pydata.org/pandas-docs/stable/indexing.html#indexing-view-versus-copy\n",
      "  \"\"\"\n"
     ]
    }
   ],
   "source": [
    "Ilgtr = roe(lgtr)\n",
    "Irfr = roe(rfr)\n",
    "Ipsvm = roe(psvm)\n",
    "Innm = roe(nnm)"
   ]
  },
  {
   "cell_type": "code",
   "execution_count": 64,
   "metadata": {},
   "outputs": [
    {
     "data": {
      "image/png": "[encoded data removed]",
      "text/plain": [
       "<matplotlib.figure.Figure at 0x118f5d450>"
      ]
     },
     "metadata": {},
     "output_type": "display_data"
    }
   ],
   "source": [
    "plt.plot(df_date, Ilgtr,label = \"Logistic Regression\", color = \"k\", ls = \"-\", lw = 1.2)\n",
    "plt.plot(df_date, Irfr,label = \"Random Forest\", color = \"r\", ls = \"-\", lw = 0.75) \n",
    "plt.plot(df_date, Ipsvm,label = \"SVM\", color = \"b\", ls = \"-\", lw = 0.75) \n",
    "plt.plot(df_date, Innm,label = \"Neural Networks\", color = \"g\", ls = \"-\", lw = 1.0) \n",
    "plt.title(\"Performance of $1,00,000 investment over 25 years\")\n",
    "plt.legend()\n",
    "plt.show()"
   ]
  },
  {
   "cell_type": "code",
   "execution_count": null,
   "metadata": {
    "collapsed": true
   },
   "outputs": [],
   "source": []
  }
 ],
 "metadata": {
  "kernelspec": {
   "display_name": "Python 2",
   "language": "python",
   "name": "python2"
  },
  "language_info": {
   "codemirror_mode": {
    "name": "ipython",
    "version": 2
   },
   "file_extension": ".py",
   "mimetype": "text/x-python",
   "name": "python",
   "nbconvert_exporter": "python",
   "pygments_lexer": "ipython2",
   "version": "2.7.14"
  }
 },
 "nbformat": 4,
 "nbformat_minor": 2
}
