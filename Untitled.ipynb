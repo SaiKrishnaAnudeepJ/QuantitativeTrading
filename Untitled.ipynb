{
 "cells": [
  {
   "cell_type": "code",
   "execution_count": null,
   "metadata": {
    "collapsed": true
   },
   "outputs": [],
   "source": [
    "# Importing necessary Libraries"
   ]
  },
  {
   "cell_type": "code",
   "execution_count": 1,
   "metadata": {
    "collapsed": true
   },
   "outputs": [],
   "source": [
    "import pandas as pd\n",
    "import datetime\n",
    "import time\n",
    "from datetime import date\n",
    "import numpy as np\n",
    "import math\n",
    "from sklearn.model_selection import train_test_split\n",
    "from sklearn.linear_model import LogisticRegression\n",
    "import matplotlib.pyplot as plt\n",
    "from sklearn import linear_model, decomposition, datasets\n",
    "from sklearn.linear_model import LogisticRegression\n",
    "from sklearn.metrics import precision_recall_fscore_support\n",
    "from sklearn.metrics import accuracy_score, f1_score, precision_score, recall_score, classification_report, confusion_matrix"
   ]
  },
  {
   "cell_type": "markdown",
   "metadata": {},
   "source": [
    "## Creating a technical Dataset"
   ]
  },
  {
   "cell_type": "code",
   "execution_count": 177,
   "metadata": {},
   "outputs": [],
   "source": [
    "spy = pd.read_csv(\"SPY.csv\")"
   ]
  },
  {
   "cell_type": "code",
   "execution_count": 178,
   "metadata": {},
   "outputs": [],
   "source": [
    "sp = spy[:310]"
   ]
  },
  {
   "cell_type": "code",
   "execution_count": 179,
   "metadata": {},
   "outputs": [],
   "source": [
    "sp = sp[[\"Date\",\"Close\",\"Volume\"]]"
   ]
  },
  {
   "cell_type": "markdown",
   "metadata": {},
   "source": [
    "#### Creating rolling means and momentum variable"
   ]
  },
  {
   "cell_type": "code",
   "execution_count": 180,
   "metadata": {},
   "outputs": [],
   "source": [
    "# Creating Momentum variable as Mmtm\n",
    "sp[\"Mmtm\"] = (sp[\"Close\"]-sp[\"Close\"].shift()) * sp[\"Volume\"]"
   ]
  },
  {
   "cell_type": "code",
   "execution_count": 181,
   "metadata": {},
   "outputs": [
    {
     "name": "stderr",
     "output_type": "stream",
     "text": [
      "C:\\Users\\Krishna\\Anaconda2\\lib\\site-packages\\ipykernel_launcher.py:2: FutureWarning: pd.rolling_mean is deprecated for Series and will be removed in a future version, replace with \n",
      "\tSeries.rolling(window=3,center=False).mean()\n",
      "  \n",
      "C:\\Users\\Krishna\\Anaconda2\\lib\\site-packages\\ipykernel_launcher.py:3: FutureWarning: pd.rolling_mean is deprecated for Series and will be removed in a future version, replace with \n",
      "\tSeries.rolling(window=7,center=False).mean()\n",
      "  This is separate from the ipykernel package so we can avoid doing imports until\n",
      "C:\\Users\\Krishna\\Anaconda2\\lib\\site-packages\\ipykernel_launcher.py:4: FutureWarning: pd.rolling_mean is deprecated for Series and will be removed in a future version, replace with \n",
      "\tSeries.rolling(window=12,center=False).mean()\n",
      "  after removing the cwd from sys.path.\n",
      "C:\\Users\\Krishna\\Anaconda2\\lib\\site-packages\\ipykernel_launcher.py:5: FutureWarning: pd.rolling_mean is deprecated for Series and will be removed in a future version, replace with \n",
      "\tSeries.rolling(window=20,center=False).mean()\n",
      "  \"\"\"\n",
      "C:\\Users\\Krishna\\Anaconda2\\lib\\site-packages\\ipykernel_launcher.py:6: FutureWarning: pd.rolling_mean is deprecated for Series and will be removed in a future version, replace with \n",
      "\tSeries.rolling(window=30,center=False).mean()\n",
      "  \n",
      "C:\\Users\\Krishna\\Anaconda2\\lib\\site-packages\\ipykernel_launcher.py:7: FutureWarning: pd.rolling_mean is deprecated for Series and will be removed in a future version, replace with \n",
      "\tSeries.rolling(window=50,center=False).mean()\n",
      "  import sys\n"
     ]
    }
   ],
   "source": [
    "sp[\"Log_change\"] = np.log(sp.Close) - np.log(sp.Close.shift(1))\n",
    "sp[\"3sma\"] = pd.rolling_mean(sp[\"Close\"],3)\n",
    "sp[\"7sma\"] = pd.rolling_mean(sp[\"Close\"],7)\n",
    "sp[\"12sma\"] = pd.rolling_mean(sp[\"Close\"],12)\n",
    "sp[\"20sma\"] = pd.rolling_mean(sp[\"Close\"],20)\n",
    "sp[\"30sma\"] = pd.rolling_mean(sp[\"Close\"],30)\n",
    "sp[\"50sma\"] = pd.rolling_mean(sp[\"Close\"],50)"
   ]
  },
  {
   "cell_type": "code",
   "execution_count": 343,
   "metadata": {},
   "outputs": [],
   "source": [
    "sp1 = sp.drop(\"Volume\",1)"
   ]
  },
  {
   "cell_type": "code",
   "execution_count": 344,
   "metadata": {
    "collapsed": true
   },
   "outputs": [],
   "source": [
    "sp1 = sp1.fillna(0)"
   ]
  },
  {
   "cell_type": "code",
   "execution_count": 345,
   "metadata": {},
   "outputs": [
    {
     "data": {
      "text/html": [
       "<div>\n",
       "<style>\n",
       "    .dataframe thead tr:only-child th {\n",
       "        text-align: right;\n",
       "    }\n",
       "\n",
       "    .dataframe thead th {\n",
       "        text-align: left;\n",
       "    }\n",
       "\n",
       "    .dataframe tbody tr th {\n",
       "        vertical-align: top;\n",
       "    }\n",
       "</style>\n",
       "<table border=\"1\" class=\"dataframe\">\n",
       "  <thead>\n",
       "    <tr style=\"text-align: right;\">\n",
       "      <th></th>\n",
       "      <th>Date</th>\n",
       "      <th>Close</th>\n",
       "      <th>Mmtm</th>\n",
       "      <th>Log_change</th>\n",
       "      <th>3sma</th>\n",
       "      <th>7sma</th>\n",
       "      <th>12sma</th>\n",
       "      <th>20sma</th>\n",
       "      <th>30sma</th>\n",
       "      <th>50sma</th>\n",
       "    </tr>\n",
       "  </thead>\n",
       "  <tbody>\n",
       "    <tr>\n",
       "      <th>0</th>\n",
       "      <td>1990-01-01</td>\n",
       "      <td>329.079987</td>\n",
       "      <td>0.000000e+00</td>\n",
       "      <td>0.000000</td>\n",
       "      <td>0.000000</td>\n",
       "      <td>0.0</td>\n",
       "      <td>0.0</td>\n",
       "      <td>0.0</td>\n",
       "      <td>0.0</td>\n",
       "      <td>0.0</td>\n",
       "    </tr>\n",
       "    <tr>\n",
       "      <th>1</th>\n",
       "      <td>1990-02-01</td>\n",
       "      <td>331.890015</td>\n",
       "      <td>8.323219e+09</td>\n",
       "      <td>0.008503</td>\n",
       "      <td>0.000000</td>\n",
       "      <td>0.0</td>\n",
       "      <td>0.0</td>\n",
       "      <td>0.0</td>\n",
       "      <td>0.0</td>\n",
       "      <td>0.0</td>\n",
       "    </tr>\n",
       "    <tr>\n",
       "      <th>2</th>\n",
       "      <td>1990-03-01</td>\n",
       "      <td>339.940002</td>\n",
       "      <td>2.643036e+10</td>\n",
       "      <td>0.023966</td>\n",
       "      <td>333.636668</td>\n",
       "      <td>0.0</td>\n",
       "      <td>0.0</td>\n",
       "      <td>0.0</td>\n",
       "      <td>0.0</td>\n",
       "      <td>0.0</td>\n",
       "    </tr>\n",
       "    <tr>\n",
       "      <th>3</th>\n",
       "      <td>1990-04-01</td>\n",
       "      <td>330.799988</td>\n",
       "      <td>-2.560319e+10</td>\n",
       "      <td>-0.027255</td>\n",
       "      <td>334.210002</td>\n",
       "      <td>0.0</td>\n",
       "      <td>0.0</td>\n",
       "      <td>0.0</td>\n",
       "      <td>0.0</td>\n",
       "      <td>0.0</td>\n",
       "    </tr>\n",
       "    <tr>\n",
       "      <th>4</th>\n",
       "      <td>1990-05-01</td>\n",
       "      <td>361.230011</td>\n",
       "      <td>1.094471e+11</td>\n",
       "      <td>0.088001</td>\n",
       "      <td>343.990000</td>\n",
       "      <td>0.0</td>\n",
       "      <td>0.0</td>\n",
       "      <td>0.0</td>\n",
       "      <td>0.0</td>\n",
       "      <td>0.0</td>\n",
       "    </tr>\n",
       "  </tbody>\n",
       "</table>\n",
       "</div>"
      ],
      "text/plain": [
       "         Date       Close          Mmtm  Log_change        3sma  7sma  12sma  \\\n",
       "0  1990-01-01  329.079987  0.000000e+00    0.000000    0.000000   0.0    0.0   \n",
       "1  1990-02-01  331.890015  8.323219e+09    0.008503    0.000000   0.0    0.0   \n",
       "2  1990-03-01  339.940002  2.643036e+10    0.023966  333.636668   0.0    0.0   \n",
       "3  1990-04-01  330.799988 -2.560319e+10   -0.027255  334.210002   0.0    0.0   \n",
       "4  1990-05-01  361.230011  1.094471e+11    0.088001  343.990000   0.0    0.0   \n",
       "\n",
       "   20sma  30sma  50sma  \n",
       "0    0.0    0.0    0.0  \n",
       "1    0.0    0.0    0.0  \n",
       "2    0.0    0.0    0.0  \n",
       "3    0.0    0.0    0.0  \n",
       "4    0.0    0.0    0.0  "
      ]
     },
     "execution_count": 345,
     "metadata": {},
     "output_type": "execute_result"
    }
   ],
   "source": [
    "sp1.head()"
   ]
  },
  {
   "cell_type": "markdown",
   "metadata": {},
   "source": [
    "## Preparing Fundamental dataset"
   ]
  },
  {
   "cell_type": "code",
   "execution_count": 204,
   "metadata": {
    "collapsed": true
   },
   "outputs": [],
   "source": [
    "fund = pd.read_csv(\"f1.csv\")"
   ]
  },
  {
   "cell_type": "code",
   "execution_count": 205,
   "metadata": {
    "collapsed": true
   },
   "outputs": [],
   "source": [
    "#dvrate = Annualized dividend rate\n",
    "#EPS = Earnings per Share\n",
    "#Prcrcm =  Closing Price"
   ]
  },
  {
   "cell_type": "code",
   "execution_count": 206,
   "metadata": {},
   "outputs": [],
   "source": [
    "fund = fund[[\"dvrate\",\"epsx12\",\"prccm\",\"datadate\"]]"
   ]
  },
  {
   "cell_type": "code",
   "execution_count": 207,
   "metadata": {},
   "outputs": [],
   "source": [
    "fund[\"PE\"] = fund[\"prccm\"]/fund[\"epsx12\"]"
   ]
  },
  {
   "cell_type": "code",
   "execution_count": 208,
   "metadata": {},
   "outputs": [],
   "source": [
    "fund = fund[[\"dvrate\",\"datadate\",\"PE\"]]"
   ]
  },
  {
   "cell_type": "code",
   "execution_count": 210,
   "metadata": {},
   "outputs": [],
   "source": [
    "fund[\"Date\"] = fund['datadate'].apply(lambda x: pd.to_datetime(str(x), format='%Y%m%d'))"
   ]
  },
  {
   "cell_type": "code",
   "execution_count": 328,
   "metadata": {},
   "outputs": [],
   "source": [
    "fund = fund[[\"dvrate\",\"PE\"]]"
   ]
  },
  {
   "cell_type": "code",
   "execution_count": 329,
   "metadata": {},
   "outputs": [
    {
     "data": {
      "text/html": [
       "<div>\n",
       "<style>\n",
       "    .dataframe thead tr:only-child th {\n",
       "        text-align: right;\n",
       "    }\n",
       "\n",
       "    .dataframe thead th {\n",
       "        text-align: left;\n",
       "    }\n",
       "\n",
       "    .dataframe tbody tr th {\n",
       "        vertical-align: top;\n",
       "    }\n",
       "</style>\n",
       "<table border=\"1\" class=\"dataframe\">\n",
       "  <thead>\n",
       "    <tr style=\"text-align: right;\">\n",
       "      <th></th>\n",
       "      <th>dvrate</th>\n",
       "      <th>PE</th>\n",
       "    </tr>\n",
       "  </thead>\n",
       "  <tbody>\n",
       "    <tr>\n",
       "      <th>0</th>\n",
       "      <td>11.40</td>\n",
       "      <td>14.389777</td>\n",
       "    </tr>\n",
       "    <tr>\n",
       "      <th>1</th>\n",
       "      <td>11.40</td>\n",
       "      <td>14.512655</td>\n",
       "    </tr>\n",
       "    <tr>\n",
       "      <th>2</th>\n",
       "      <td>11.04</td>\n",
       "      <td>15.687120</td>\n",
       "    </tr>\n",
       "    <tr>\n",
       "      <th>3</th>\n",
       "      <td>11.04</td>\n",
       "      <td>15.265335</td>\n",
       "    </tr>\n",
       "    <tr>\n",
       "      <th>4</th>\n",
       "      <td>11.04</td>\n",
       "      <td>16.669589</td>\n",
       "    </tr>\n",
       "  </tbody>\n",
       "</table>\n",
       "</div>"
      ],
      "text/plain": [
       "   dvrate         PE\n",
       "0   11.40  14.389777\n",
       "1   11.40  14.512655\n",
       "2   11.04  15.687120\n",
       "3   11.04  15.265335\n",
       "4   11.04  16.669589"
      ]
     },
     "execution_count": 329,
     "metadata": {},
     "output_type": "execute_result"
    }
   ],
   "source": [
    "fund.head()"
   ]
  },
  {
   "cell_type": "markdown",
   "metadata": {},
   "source": [
    "## Creaing Final Dataset"
   ]
  },
  {
   "cell_type": "code",
   "execution_count": 346,
   "metadata": {
    "collapsed": true
   },
   "outputs": [],
   "source": [
    "df = sp1.copy()"
   ]
  },
  {
   "cell_type": "code",
   "execution_count": 347,
   "metadata": {},
   "outputs": [],
   "source": [
    "f2 = fund.copy()"
   ]
  },
  {
   "cell_type": "code",
   "execution_count": 348,
   "metadata": {},
   "outputs": [],
   "source": [
    "df = df.join(f2) #DF is the final dataset"
   ]
  },
  {
   "cell_type": "code",
   "execution_count": 349,
   "metadata": {},
   "outputs": [],
   "source": [
    "df[\"Pred\"] = np.where(df[\"Close\"]>df[\"Close\"].shift(),1,0)"
   ]
  },
  {
   "cell_type": "code",
   "execution_count": 350,
   "metadata": {},
   "outputs": [
    {
     "data": {
      "text/html": [
       "<div>\n",
       "<style>\n",
       "    .dataframe thead tr:only-child th {\n",
       "        text-align: right;\n",
       "    }\n",
       "\n",
       "    .dataframe thead th {\n",
       "        text-align: left;\n",
       "    }\n",
       "\n",
       "    .dataframe tbody tr th {\n",
       "        vertical-align: top;\n",
       "    }\n",
       "</style>\n",
       "<table border=\"1\" class=\"dataframe\">\n",
       "  <thead>\n",
       "    <tr style=\"text-align: right;\">\n",
       "      <th></th>\n",
       "      <th>Date</th>\n",
       "      <th>Close</th>\n",
       "      <th>Mmtm</th>\n",
       "      <th>Log_change</th>\n",
       "      <th>3sma</th>\n",
       "      <th>7sma</th>\n",
       "      <th>12sma</th>\n",
       "      <th>20sma</th>\n",
       "      <th>30sma</th>\n",
       "      <th>50sma</th>\n",
       "      <th>dvrate</th>\n",
       "      <th>PE</th>\n",
       "      <th>Pred</th>\n",
       "    </tr>\n",
       "  </thead>\n",
       "  <tbody>\n",
       "    <tr>\n",
       "      <th>0</th>\n",
       "      <td>1990-01-01</td>\n",
       "      <td>329.079987</td>\n",
       "      <td>0.000000e+00</td>\n",
       "      <td>0.000000</td>\n",
       "      <td>0.000000</td>\n",
       "      <td>0.0</td>\n",
       "      <td>0.0</td>\n",
       "      <td>0.0</td>\n",
       "      <td>0.0</td>\n",
       "      <td>0.0</td>\n",
       "      <td>11.40</td>\n",
       "      <td>14.389777</td>\n",
       "      <td>0</td>\n",
       "    </tr>\n",
       "    <tr>\n",
       "      <th>1</th>\n",
       "      <td>1990-02-01</td>\n",
       "      <td>331.890015</td>\n",
       "      <td>8.323219e+09</td>\n",
       "      <td>0.008503</td>\n",
       "      <td>0.000000</td>\n",
       "      <td>0.0</td>\n",
       "      <td>0.0</td>\n",
       "      <td>0.0</td>\n",
       "      <td>0.0</td>\n",
       "      <td>0.0</td>\n",
       "      <td>11.40</td>\n",
       "      <td>14.512655</td>\n",
       "      <td>1</td>\n",
       "    </tr>\n",
       "    <tr>\n",
       "      <th>2</th>\n",
       "      <td>1990-03-01</td>\n",
       "      <td>339.940002</td>\n",
       "      <td>2.643036e+10</td>\n",
       "      <td>0.023966</td>\n",
       "      <td>333.636668</td>\n",
       "      <td>0.0</td>\n",
       "      <td>0.0</td>\n",
       "      <td>0.0</td>\n",
       "      <td>0.0</td>\n",
       "      <td>0.0</td>\n",
       "      <td>11.04</td>\n",
       "      <td>15.687120</td>\n",
       "      <td>1</td>\n",
       "    </tr>\n",
       "    <tr>\n",
       "      <th>3</th>\n",
       "      <td>1990-04-01</td>\n",
       "      <td>330.799988</td>\n",
       "      <td>-2.560319e+10</td>\n",
       "      <td>-0.027255</td>\n",
       "      <td>334.210002</td>\n",
       "      <td>0.0</td>\n",
       "      <td>0.0</td>\n",
       "      <td>0.0</td>\n",
       "      <td>0.0</td>\n",
       "      <td>0.0</td>\n",
       "      <td>11.04</td>\n",
       "      <td>15.265335</td>\n",
       "      <td>0</td>\n",
       "    </tr>\n",
       "    <tr>\n",
       "      <th>4</th>\n",
       "      <td>1990-05-01</td>\n",
       "      <td>361.230011</td>\n",
       "      <td>1.094471e+11</td>\n",
       "      <td>0.088001</td>\n",
       "      <td>343.990000</td>\n",
       "      <td>0.0</td>\n",
       "      <td>0.0</td>\n",
       "      <td>0.0</td>\n",
       "      <td>0.0</td>\n",
       "      <td>0.0</td>\n",
       "      <td>11.04</td>\n",
       "      <td>16.669589</td>\n",
       "      <td>1</td>\n",
       "    </tr>\n",
       "  </tbody>\n",
       "</table>\n",
       "</div>"
      ],
      "text/plain": [
       "         Date       Close          Mmtm  Log_change        3sma  7sma  12sma  \\\n",
       "0  1990-01-01  329.079987  0.000000e+00    0.000000    0.000000   0.0    0.0   \n",
       "1  1990-02-01  331.890015  8.323219e+09    0.008503    0.000000   0.0    0.0   \n",
       "2  1990-03-01  339.940002  2.643036e+10    0.023966  333.636668   0.0    0.0   \n",
       "3  1990-04-01  330.799988 -2.560319e+10   -0.027255  334.210002   0.0    0.0   \n",
       "4  1990-05-01  361.230011  1.094471e+11    0.088001  343.990000   0.0    0.0   \n",
       "\n",
       "   20sma  30sma  50sma  dvrate         PE  Pred  \n",
       "0    0.0    0.0    0.0   11.40  14.389777     0  \n",
       "1    0.0    0.0    0.0   11.40  14.512655     1  \n",
       "2    0.0    0.0    0.0   11.04  15.687120     1  \n",
       "3    0.0    0.0    0.0   11.04  15.265335     0  \n",
       "4    0.0    0.0    0.0   11.04  16.669589     1  "
      ]
     },
     "execution_count": 350,
     "metadata": {},
     "output_type": "execute_result"
    }
   ],
   "source": [
    "df.head()"
   ]
  },
  {
   "cell_type": "markdown",
   "metadata": {},
   "source": [
    "### Data Manipulation"
   ]
  },
  {
   "cell_type": "code",
   "execution_count": 353,
   "metadata": {
    "collapsed": true
   },
   "outputs": [],
   "source": [
    "# Our goal is to predict the movement of the S&P 500 using the previous months data\n",
    "# We have to predict the Febraury movement using the January Data\n",
    "# So Our target variable is 1 step ahead of the X-Variables\n",
    "# To Compensate we shift our target variable one step back wards"
   ]
  },
  {
   "cell_type": "code",
   "execution_count": 354,
   "metadata": {
    "collapsed": true
   },
   "outputs": [],
   "source": [
    "df[\"Pred\"] = df[\"Pred\"].shift(-1)"
   ]
  },
  {
   "cell_type": "code",
   "execution_count": 355,
   "metadata": {},
   "outputs": [],
   "source": [
    "df = df.fillna(0)"
   ]
  },
  {
   "cell_type": "markdown",
   "metadata": {},
   "source": [
    "### Creating Final X- Variables Data and Y-Variables"
   ]
  },
  {
   "cell_type": "code",
   "execution_count": 356,
   "metadata": {
    "collapsed": true
   },
   "outputs": [],
   "source": [
    "#Dataset of Dates\n",
    "df_date = df[\"Date\"]"
   ]
  },
  {
   "cell_type": "code",
   "execution_count": 357,
   "metadata": {
    "collapsed": true
   },
   "outputs": [],
   "source": [
    "# Dataset Of X-Variables\n",
    "df_x = df[[\"Mmtm\",\"Log_change\",\"3sma\",\"7sma\",\"12sma\",\"20sma\",\"30sma\",\"50sma\",\"dvrate\",\"PE\"]]"
   ]
  },
  {
   "cell_type": "code",
   "execution_count": 358,
   "metadata": {
    "collapsed": true
   },
   "outputs": [],
   "source": [
    "#Dataset Of Y-variables\n",
    "df_y = df[\"Pred\"]"
   ]
  },
  {
   "cell_type": "markdown",
   "metadata": {},
   "source": [
    "### Normalizing data"
   ]
  },
  {
   "cell_type": "code",
   "execution_count": 359,
   "metadata": {},
   "outputs": [],
   "source": [
    "#This data is Panel data.So, the terms like Close and Volume will consistetly increase with time.\n",
    "#So it doesn't make any sense to Normalize the data\n",
    "#So instead we take the Log differntiation for some variables to solve this."
   ]
  },
  {
   "cell_type": "code",
   "execution_count": 360,
   "metadata": {},
   "outputs": [
    {
     "name": "stderr",
     "output_type": "stream",
     "text": [
      "C:\\Users\\Krishna\\Anaconda2\\lib\\site-packages\\ipykernel_launcher.py:1: RuntimeWarning: divide by zero encountered in log\n",
      "  \"\"\"Entry point for launching an IPython kernel.\n",
      "C:\\Users\\Krishna\\Anaconda2\\lib\\site-packages\\ipykernel_launcher.py:1: RuntimeWarning: invalid value encountered in log\n",
      "  \"\"\"Entry point for launching an IPython kernel.\n",
      "C:\\Users\\Krishna\\Anaconda2\\lib\\site-packages\\ipykernel_launcher.py:1: SettingWithCopyWarning: \n",
      "A value is trying to be set on a copy of a slice from a DataFrame.\n",
      "Try using .loc[row_indexer,col_indexer] = value instead\n",
      "\n",
      "See the caveats in the documentation: http://pandas.pydata.org/pandas-docs/stable/indexing.html#indexing-view-versus-copy\n",
      "  \"\"\"Entry point for launching an IPython kernel.\n"
     ]
    }
   ],
   "source": [
    "df_x[\"Mmtm\"] = np.log(df_x.Mmtm) - np.log(df_x.Mmtm.shift(1))"
   ]
  },
  {
   "cell_type": "code",
   "execution_count": 361,
   "metadata": {},
   "outputs": [],
   "source": [
    "df_x = df_x.replace(np.inf, np.nan)"
   ]
  },
  {
   "cell_type": "code",
   "execution_count": 362,
   "metadata": {},
   "outputs": [],
   "source": [
    "df_x=df_x.fillna(0)"
   ]
  },
  {
   "cell_type": "code",
   "execution_count": 363,
   "metadata": {},
   "outputs": [
    {
     "data": {
      "text/html": [
       "<div>\n",
       "<style>\n",
       "    .dataframe thead tr:only-child th {\n",
       "        text-align: right;\n",
       "    }\n",
       "\n",
       "    .dataframe thead th {\n",
       "        text-align: left;\n",
       "    }\n",
       "\n",
       "    .dataframe tbody tr th {\n",
       "        vertical-align: top;\n",
       "    }\n",
       "</style>\n",
       "<table border=\"1\" class=\"dataframe\">\n",
       "  <thead>\n",
       "    <tr style=\"text-align: right;\">\n",
       "      <th></th>\n",
       "      <th>Mmtm</th>\n",
       "      <th>Log_change</th>\n",
       "      <th>3sma</th>\n",
       "      <th>7sma</th>\n",
       "      <th>12sma</th>\n",
       "      <th>20sma</th>\n",
       "      <th>30sma</th>\n",
       "      <th>50sma</th>\n",
       "      <th>dvrate</th>\n",
       "      <th>PE</th>\n",
       "    </tr>\n",
       "  </thead>\n",
       "  <tbody>\n",
       "    <tr>\n",
       "      <th>count</th>\n",
       "      <td>310.000000</td>\n",
       "      <td>310.000000</td>\n",
       "      <td>310.000000</td>\n",
       "      <td>310.000000</td>\n",
       "      <td>310.000000</td>\n",
       "      <td>310.000000</td>\n",
       "      <td>310.000000</td>\n",
       "      <td>310.000000</td>\n",
       "      <td>310.000000</td>\n",
       "      <td>310.000000</td>\n",
       "    </tr>\n",
       "    <tr>\n",
       "      <th>mean</th>\n",
       "      <td>-0.011585</td>\n",
       "      <td>0.005947</td>\n",
       "      <td>1058.008233</td>\n",
       "      <td>1042.762674</td>\n",
       "      <td>1023.393521</td>\n",
       "      <td>992.773658</td>\n",
       "      <td>955.768057</td>\n",
       "      <td>888.212613</td>\n",
       "      <td>20.579329</td>\n",
       "      <td>24.276476</td>\n",
       "    </tr>\n",
       "    <tr>\n",
       "      <th>std</th>\n",
       "      <td>0.977308</td>\n",
       "      <td>0.042307</td>\n",
       "      <td>457.660834</td>\n",
       "      <td>461.132681</td>\n",
       "      <td>463.603778</td>\n",
       "      <td>466.091843</td>\n",
       "      <td>469.737262</td>\n",
       "      <td>484.147879</td>\n",
       "      <td>8.270678</td>\n",
       "      <td>15.729405</td>\n",
       "    </tr>\n",
       "    <tr>\n",
       "      <th>min</th>\n",
       "      <td>-5.706200</td>\n",
       "      <td>-0.185636</td>\n",
       "      <td>0.000000</td>\n",
       "      <td>0.000000</td>\n",
       "      <td>0.000000</td>\n",
       "      <td>0.000000</td>\n",
       "      <td>0.000000</td>\n",
       "      <td>0.000000</td>\n",
       "      <td>0.000000</td>\n",
       "      <td>0.000000</td>\n",
       "    </tr>\n",
       "    <tr>\n",
       "      <th>25%</th>\n",
       "      <td>0.000000</td>\n",
       "      <td>-0.017958</td>\n",
       "      <td>657.136663</td>\n",
       "      <td>648.257856</td>\n",
       "      <td>620.541039</td>\n",
       "      <td>571.896251</td>\n",
       "      <td>534.865167</td>\n",
       "      <td>497.384400</td>\n",
       "      <td>14.410000</td>\n",
       "      <td>17.455375</td>\n",
       "    </tr>\n",
       "    <tr>\n",
       "      <th>50%</th>\n",
       "      <td>0.000000</td>\n",
       "      <td>0.010527</td>\n",
       "      <td>1116.134989</td>\n",
       "      <td>1111.685695</td>\n",
       "      <td>1110.549571</td>\n",
       "      <td>1093.481490</td>\n",
       "      <td>1088.686492</td>\n",
       "      <td>1115.752293</td>\n",
       "      <td>16.728000</td>\n",
       "      <td>20.016221</td>\n",
       "    </tr>\n",
       "    <tr>\n",
       "      <th>75%</th>\n",
       "      <td>0.000000</td>\n",
       "      <td>0.032781</td>\n",
       "      <td>1344.627513</td>\n",
       "      <td>1329.030714</td>\n",
       "      <td>1326.435616</td>\n",
       "      <td>1311.699739</td>\n",
       "      <td>1285.688908</td>\n",
       "      <td>1231.342845</td>\n",
       "      <td>25.940000</td>\n",
       "      <td>25.872627</td>\n",
       "    </tr>\n",
       "    <tr>\n",
       "      <th>max</th>\n",
       "      <td>5.881806</td>\n",
       "      <td>0.105789</td>\n",
       "      <td>2091.446696</td>\n",
       "      <td>2075.318569</td>\n",
       "      <td>2053.950002</td>\n",
       "      <td>2009.486505</td>\n",
       "      <td>1915.991671</td>\n",
       "      <td>1703.732803</td>\n",
       "      <td>43.160000</td>\n",
       "      <td>124.663491</td>\n",
       "    </tr>\n",
       "  </tbody>\n",
       "</table>\n",
       "</div>"
      ],
      "text/plain": [
       "             Mmtm  Log_change         3sma         7sma        12sma  \\\n",
       "count  310.000000  310.000000   310.000000   310.000000   310.000000   \n",
       "mean    -0.011585    0.005947  1058.008233  1042.762674  1023.393521   \n",
       "std      0.977308    0.042307   457.660834   461.132681   463.603778   \n",
       "min     -5.706200   -0.185636     0.000000     0.000000     0.000000   \n",
       "25%      0.000000   -0.017958   657.136663   648.257856   620.541039   \n",
       "50%      0.000000    0.010527  1116.134989  1111.685695  1110.549571   \n",
       "75%      0.000000    0.032781  1344.627513  1329.030714  1326.435616   \n",
       "max      5.881806    0.105789  2091.446696  2075.318569  2053.950002   \n",
       "\n",
       "             20sma        30sma        50sma      dvrate          PE  \n",
       "count   310.000000   310.000000   310.000000  310.000000  310.000000  \n",
       "mean    992.773658   955.768057   888.212613   20.579329   24.276476  \n",
       "std     466.091843   469.737262   484.147879    8.270678   15.729405  \n",
       "min       0.000000     0.000000     0.000000    0.000000    0.000000  \n",
       "25%     571.896251   534.865167   497.384400   14.410000   17.455375  \n",
       "50%    1093.481490  1088.686492  1115.752293   16.728000   20.016221  \n",
       "75%    1311.699739  1285.688908  1231.342845   25.940000   25.872627  \n",
       "max    2009.486505  1915.991671  1703.732803   43.160000  124.663491  "
      ]
     },
     "execution_count": 363,
     "metadata": {},
     "output_type": "execute_result"
    }
   ],
   "source": [
    "# Our final set of X-Variables\n",
    "df_x.describe()"
   ]
  },
  {
   "cell_type": "markdown",
   "metadata": {},
   "source": [
    "## Building our Models"
   ]
  },
  {
   "cell_type": "markdown",
   "metadata": {},
   "source": [
    "### Splitting Data into Training and testing data"
   ]
  },
  {
   "cell_type": "code",
   "execution_count": 364,
   "metadata": {
    "collapsed": true
   },
   "outputs": [],
   "source": [
    "X_train, X_test, y_train, y_test = train_test_split(df_x, df_y, test_size=0.3, random_state=42)"
   ]
  },
  {
   "cell_type": "markdown",
   "metadata": {},
   "source": [
    "### Logistics Regression Model"
   ]
  },
  {
   "cell_type": "code",
   "execution_count": 365,
   "metadata": {},
   "outputs": [],
   "source": [
    "lgtr = linear_model.LogisticRegression(penalty= \"l1\")"
   ]
  },
  {
   "cell_type": "code",
   "execution_count": 366,
   "metadata": {},
   "outputs": [],
   "source": [
    "lgtr = lgtr.fit(X_train,y_train)"
   ]
  },
  {
   "cell_type": "code",
   "execution_count": 367,
   "metadata": {},
   "outputs": [],
   "source": [
    "y_pred = lgtr.predict(X_test)"
   ]
  },
  {
   "cell_type": "code",
   "execution_count": 368,
   "metadata": {},
   "outputs": [
    {
     "name": "stdout",
     "output_type": "stream",
     "text": [
      "Accuracy:  0.688172043011\n",
      "Precision:  0.686046511628\n",
      "Recall:  0.967213114754\n"
     ]
    }
   ],
   "source": [
    "print \"Accuracy: \",accuracy_score(y_test, y_pred)\n",
    "print \"Precision: \",precision_score(y_test, y_pred)\n",
    "print \"Recall: \",recall_score(y_test, y_pred)"
   ]
  },
  {
   "cell_type": "markdown",
   "metadata": {},
   "source": []
  }
 ],
 "metadata": {
  "kernelspec": {
   "display_name": "Python 2",
   "language": "python",
   "name": "python2"
  },
  "language_info": {
   "codemirror_mode": {
    "name": "ipython",
    "version": 2
   },
   "file_extension": ".py",
   "mimetype": "text/x-python",
   "name": "python",
   "nbconvert_exporter": "python",
   "pygments_lexer": "ipython2",
   "version": "2.7.14"
  }
 },
 "nbformat": 4,
 "nbformat_minor": 2
}
